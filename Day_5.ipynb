{
 "cells": [
  {
   "cell_type": "code",
   "execution_count": 1,
   "id": "468f7008-81b8-4b3c-842e-b1ebb5fe20a6",
   "metadata": {},
   "outputs": [],
   "source": [
    "import numpy as np"
   ]
  },
  {
   "cell_type": "markdown",
   "id": "d958859c-f190-4545-86f3-5f8df28cb0e1",
   "metadata": {},
   "source": [
    "# Input"
   ]
  },
  {
   "cell_type": "code",
   "execution_count": 2,
   "id": "1f761ed9-3942-47c2-a42e-18c5bd12722f",
   "metadata": {},
   "outputs": [
    {
     "data": {
      "text/plain": [
       "array([[96, 15],\n",
       "       [69, 95],\n",
       "       [69, 66],\n",
       "       [41, 61],\n",
       "       [41, 26]])"
      ]
     },
     "execution_count": 2,
     "metadata": {},
     "output_type": "execute_result"
    }
   ],
   "source": [
    "rules = np.genfromtxt('d5_rules.txt',delimiter='|',dtype=int)\n",
    "rules[:5]"
   ]
  },
  {
   "cell_type": "code",
   "execution_count": 3,
   "id": "4bf46345-d022-493b-862e-096e99c25ee5",
   "metadata": {},
   "outputs": [
    {
     "data": {
      "text/plain": [
       "array([[47, 53],\n",
       "       [97, 13],\n",
       "       [97, 61],\n",
       "       [97, 47],\n",
       "       [75, 29]])"
      ]
     },
     "execution_count": 3,
     "metadata": {},
     "output_type": "execute_result"
    }
   ],
   "source": [
    "test_rules = np.genfromtxt('d5_test_rules.txt',delimiter='|',dtype=int)\n",
    "test_rules[:5]"
   ]
  },
  {
   "cell_type": "code",
   "execution_count": 4,
   "id": "382dda68-2137-4e18-a5c3-2074c3302158",
   "metadata": {},
   "outputs": [
    {
     "data": {
      "text/plain": [
       "(1176, 2)"
      ]
     },
     "execution_count": 4,
     "metadata": {},
     "output_type": "execute_result"
    }
   ],
   "source": [
    "rules.shape"
   ]
  },
  {
   "cell_type": "code",
   "execution_count": 5,
   "id": "765489ca-be5a-4380-930c-1f50ff238773",
   "metadata": {},
   "outputs": [
    {
     "data": {
      "text/plain": [
       "['27,51,67,91,42,86,58,66,39,72,96\\n',\n",
       " '88,64,61,72,82,46,36,63,41,95,75\\n',\n",
       " '17,62,58,66,79,22,39,72,19,96,65,63,12,41,25,46,64,75,11,95,99,23,61\\n',\n",
       " '12,41,39,93,95,66,86,62,42,11,58\\n',\n",
       " '18,92,26,48,67,83,69,42,62,58,66,79,39,19,15\\n']"
      ]
     },
     "execution_count": 5,
     "metadata": {},
     "output_type": "execute_result"
    }
   ],
   "source": [
    "d5_input = open('d5_input.txt')\n",
    "d5_input = d5_input.readlines().copy()\n",
    "d5_input[:5]"
   ]
  },
  {
   "cell_type": "code",
   "execution_count": 6,
   "id": "874785b2-49e7-48ad-a61a-6d1c3b0d7fa2",
   "metadata": {},
   "outputs": [
    {
     "data": {
      "text/plain": [
       "[array([27, 51, 67, 91, 42, 86, 58, 66, 39, 72, 96]),\n",
       " array([88, 64, 61, 72, 82, 46, 36, 63, 41, 95, 75]),\n",
       " array([17, 62, 58, 66, 79, 22, 39, 72, 19, 96, 65, 63, 12, 41, 25, 46, 64,\n",
       "        75, 11, 95, 99, 23, 61]),\n",
       " array([12, 41, 39, 93, 95, 66, 86, 62, 42, 11, 58]),\n",
       " array([18, 92, 26, 48, 67, 83, 69, 42, 62, 58, 66, 79, 39, 19, 15])]"
      ]
     },
     "execution_count": 6,
     "metadata": {},
     "output_type": "execute_result"
    }
   ],
   "source": [
    "d5_array = [np.fromstring(line, sep=',', dtype=int) for line in d5_input]\n",
    "d5_array[:5]"
   ]
  },
  {
   "cell_type": "markdown",
   "id": "83567c39-f517-4fea-b38e-97db42368ec5",
   "metadata": {},
   "source": [
    "# Part One "
   ]
  },
  {
   "cell_type": "code",
   "execution_count": 7,
   "id": "b17ef923-cc8e-4b4a-a62c-95acf8fc9290",
   "metadata": {},
   "outputs": [],
   "source": [
    "def breaks_rule(rule,index,line):\n",
    "    #Check if page that should be in front is actually behind\n",
    "    if line[index] == rule[0]:\n",
    "        if np.any(line[:index] == rule[1]):\n",
    "            return True\n",
    "    #Check if page that should be behind is actually behind\n",
    "    if line[index] == rule[1]:\n",
    "        if np.any(line[index:] == rule[0]):\n",
    "            return True\n",
    "    else:\n",
    "        return False"
   ]
  },
  {
   "cell_type": "code",
   "execution_count": 8,
   "id": "94a8e866-c547-4bfb-9e7d-bcdb62bc221b",
   "metadata": {},
   "outputs": [
    {
     "data": {
      "text/plain": [
       "np.int64(4569)"
      ]
     },
     "execution_count": 8,
     "metadata": {},
     "output_type": "execute_result"
    }
   ],
   "source": [
    "page_sum = 0\n",
    "broken_arrays = []\n",
    "for array in d5_array:\n",
    "    rule_broken = False\n",
    "    for index in range(array.shape[0]):\n",
    "        \n",
    "        mask = np.isin(rules,array).all(axis=1)\n",
    "        filtered_rules = rules[mask]\n",
    "        \n",
    "        for rule in filtered_rules:\n",
    "            \n",
    "            if breaks_rule(rule,index,array):\n",
    "                \n",
    "                rule_broken = True\n",
    "                break\n",
    "        if rule_broken:\n",
    "            break\n",
    "    if rule_broken:\n",
    "        broken_arrays.append(array)\n",
    "        continue\n",
    "    if not rule_broken:\n",
    "        page_sum += array[round(array.shape[0]/2 - 0.5)]\n",
    "page_sum"
   ]
  },
  {
   "cell_type": "markdown",
   "id": "6cad89bf-f590-4547-b782-5b15d94afa2a",
   "metadata": {},
   "source": [
    "# Part Two"
   ]
  },
  {
   "cell_type": "code",
   "execution_count": 9,
   "id": "29f99227-4aae-47e5-9f46-609b87584f04",
   "metadata": {},
   "outputs": [],
   "source": [
    "def fix_rule(broken_array, rules):\n",
    "    fixing_array = broken_array.copy()\n",
    "    for index in range(fixing_array.shape[0]):\n",
    "        for rule in rules:\n",
    "            if breaks_rule(rule,index,fixing_array):\n",
    "                val1 = np.where(fixing_array == rule[0])[0]\n",
    "                val2 = np.where(fixing_array == rule[1])[0]\n",
    "                fixing_array[val1[0]],fixing_array[val2[0]] = fixing_array[val2[0]],fixing_array[val1[0]]\n",
    "                \n",
    "                return fix_rule(fixing_array, rules)\n",
    "    return fixing_array\n",
    "                "
   ]
  },
  {
   "cell_type": "code",
   "execution_count": 10,
   "id": "a3996234-448c-4546-81e1-ecc924a2f92f",
   "metadata": {},
   "outputs": [
    {
     "data": {
      "text/plain": [
       "np.int64(6456)"
      ]
     },
     "execution_count": 10,
     "metadata": {},
     "output_type": "execute_result"
    }
   ],
   "source": [
    "broken_page_sum = 0\n",
    "test_broken = np.array([97,13,75,29,47])\n",
    "test_rules\n",
    "for broken_array in broken_arrays:\n",
    "    mask = np.isin(rules,broken_array).all(axis=1)\n",
    "    filtered_rules = rules[mask]\n",
    "    fixed_array = fix_rule(broken_array,filtered_rules)\n",
    "    broken_page_sum += fixed_array[round(fixed_array.shape[0]/2 - 0.5)]\n",
    "broken_page_sum"
   ]
  }
 ],
 "metadata": {
  "kernelspec": {
   "display_name": "Python 3 (ipykernel)",
   "language": "python",
   "name": "python3"
  },
  "language_info": {
   "codemirror_mode": {
    "name": "ipython",
    "version": 3
   },
   "file_extension": ".py",
   "mimetype": "text/x-python",
   "name": "python",
   "nbconvert_exporter": "python",
   "pygments_lexer": "ipython3",
   "version": "3.13.0"
  }
 },
 "nbformat": 4,
 "nbformat_minor": 5
}
