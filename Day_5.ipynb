{
 "cells": [
  {
   "cell_type": "code",
   "execution_count": 1,
   "id": "468f7008-81b8-4b3c-842e-b1ebb5fe20a6",
   "metadata": {},
   "outputs": [],
   "source": [
    "import numpy as np"
   ]
  },
  {
   "cell_type": "code",
   "execution_count": 2,
   "id": "1f761ed9-3942-47c2-a42e-18c5bd12722f",
   "metadata": {},
   "outputs": [
    {
     "data": {
      "text/plain": [
       "array([[96, 15],\n",
       "       [69, 95],\n",
       "       [69, 66],\n",
       "       [41, 61],\n",
       "       [41, 26]])"
      ]
     },
     "execution_count": 2,
     "metadata": {},
     "output_type": "execute_result"
    }
   ],
   "source": [
    "rules = np.genfromtxt('d5_rules.txt',delimiter='|',dtype=int)\n",
    "rules[:5]"
   ]
  },
  {
   "cell_type": "code",
   "execution_count": 6,
   "id": "382dda68-2137-4e18-a5c3-2074c3302158",
   "metadata": {},
   "outputs": [
    {
     "data": {
      "text/plain": [
       "(1176, 2)"
      ]
     },
     "execution_count": 6,
     "metadata": {},
     "output_type": "execute_result"
    }
   ],
   "source": [
    "rules.shape"
   ]
  },
  {
   "cell_type": "code",
   "execution_count": 3,
   "id": "765489ca-be5a-4380-930c-1f50ff238773",
   "metadata": {},
   "outputs": [
    {
     "data": {
      "text/plain": [
       "['27,51,67,91,42,86,58,66,39,72,96\\n',\n",
       " '88,64,61,72,82,46,36,63,41,95,75\\n',\n",
       " '17,62,58,66,79,22,39,72,19,96,65,63,12,41,25,46,64,75,11,95,99,23,61\\n',\n",
       " '12,41,39,93,95,66,86,62,42,11,58\\n',\n",
       " '18,92,26,48,67,83,69,42,62,58,66,79,39,19,15\\n']"
      ]
     },
     "execution_count": 3,
     "metadata": {},
     "output_type": "execute_result"
    }
   ],
   "source": [
    "d5_input = open('d5_input.txt')\n",
    "d5_input = d5_input.readlines().copy()\n",
    "d5_input[:5]"
   ]
  },
  {
   "cell_type": "code",
   "execution_count": 4,
   "id": "6148c7e5-2a4e-4f5d-8d2f-ccd3d809549d",
   "metadata": {},
   "outputs": [
    {
     "data": {
      "text/plain": [
       "array([27, 51, 67, 91, 42, 86, 58, 66, 39, 72, 96])"
      ]
     },
     "execution_count": 4,
     "metadata": {},
     "output_type": "execute_result"
    }
   ],
   "source": [
    "np.fromstring(d5_input[0],sep=',',dtype=int)"
   ]
  },
  {
   "cell_type": "code",
   "execution_count": 5,
   "id": "874785b2-49e7-48ad-a61a-6d1c3b0d7fa2",
   "metadata": {},
   "outputs": [
    {
     "data": {
      "text/plain": [
       "[array([27, 51, 67, 91, 42, 86, 58, 66, 39, 72, 96]),\n",
       " array([88, 64, 61, 72, 82, 46, 36, 63, 41, 95, 75]),\n",
       " array([17, 62, 58, 66, 79, 22, 39, 72, 19, 96, 65, 63, 12, 41, 25, 46, 64,\n",
       "        75, 11, 95, 99, 23, 61]),\n",
       " array([12, 41, 39, 93, 95, 66, 86, 62, 42, 11, 58]),\n",
       " array([18, 92, 26, 48, 67, 83, 69, 42, 62, 58, 66, 79, 39, 19, 15])]"
      ]
     },
     "execution_count": 5,
     "metadata": {},
     "output_type": "execute_result"
    }
   ],
   "source": [
    "d5_array = [np.fromstring(line, sep=',', dtype=int) for line in d5_input]\n",
    "d5_array[:5]"
   ]
  },
  {
   "cell_type": "code",
   "execution_count": 17,
   "id": "30ccfc8d-b3dd-4b3e-a2c6-2152b9752874",
   "metadata": {},
   "outputs": [],
   "source": [
    "after_mask = np.isin(rules[:,0],d5_array[0]) # Rules requiring numbers to be after\n",
    "after_rules = rules[after_mask]\n",
    "\n",
    "before_mask = np.isin(rules[:,1], d5_array[0])\n",
    "before_rules = rules[before_mask]\n"
   ]
  },
  {
   "cell_type": "code",
   "execution_count": 36,
   "id": "e6d8cb07-3a86-449a-9321-7114c9112703",
   "metadata": {},
   "outputs": [
    {
     "ename": "ValueError",
     "evalue": "The truth value of an array with more than one element is ambiguous. Use a.any() or a.all()",
     "output_type": "error",
     "traceback": [
      "\u001b[1;31m---------------------------------------------------------------------------\u001b[0m",
      "\u001b[1;31mValueError\u001b[0m                                Traceback (most recent call last)",
      "Cell \u001b[1;32mIn[36], line 1\u001b[0m\n\u001b[1;32m----> 1\u001b[0m rules[\u001b[43mafter_mask\u001b[49m\u001b[43m \u001b[49m\u001b[38;5;129;43;01mor\u001b[39;49;00m\u001b[43m \u001b[49m\u001b[43mbefore_mask\u001b[49m]\n",
      "\u001b[1;31mValueError\u001b[0m: The truth value of an array with more than one element is ambiguous. Use a.any() or a.all()"
     ]
    }
   ],
   "source": [
    "rules[np.any(after_mask,before_mask)]"
   ]
  },
  {
   "cell_type": "code",
   "execution_count": 20,
   "id": "4b7b1304-23e5-4d63-8fa9-59b050751d3d",
   "metadata": {},
   "outputs": [
    {
     "data": {
      "text/plain": [
       "array([96, 15])"
      ]
     },
     "execution_count": 20,
     "metadata": {},
     "output_type": "execute_result"
    }
   ],
   "source": [
    "after_rules[:5][0]"
   ]
  },
  {
   "cell_type": "code",
   "execution_count": null,
   "id": "1ac44888-8205-4955-96a7-ed4adeef73bd",
   "metadata": {},
   "outputs": [],
   "source": [
    "d5_array["
   ]
  },
  {
   "cell_type": "code",
   "execution_count": 44,
   "id": "9325363d-06ee-4784-bdd8-e36b3e277784",
   "metadata": {},
   "outputs": [
    {
     "name": "stdout",
     "output_type": "stream",
     "text": [
      "after rule_broken at index i 0\n",
      "rule [27 91]\n",
      "after rule_broken at index i 0\n",
      "rule [27 66]\n",
      "after rule_broken at index i 0\n",
      "rule [27 96]\n",
      "after rule_broken at index i 0\n",
      "rule [27 72]\n",
      "after rule_broken at index i 0\n",
      "rule [27 67]\n",
      "after rule_broken at index i 0\n",
      "rule [27 39]\n",
      "after rule_broken at index i 0\n",
      "rule [27 86]\n",
      "after rule_broken at index i 0\n",
      "rule [27 42]\n",
      "after rule_broken at index i 0\n",
      "rule [27 58]\n",
      "after rule_broken at index i 0\n",
      "rule [27 51]\n",
      "after rule_broken at index i 1\n",
      "rule [51 58]\n",
      "after rule_broken at index i 1\n",
      "rule [51 67]\n",
      "after rule_broken at index i 1\n",
      "rule [51 39]\n",
      "after rule_broken at index i 1\n",
      "rule [51 86]\n",
      "after rule_broken at index i 1\n",
      "rule [51 42]\n",
      "after rule_broken at index i 1\n",
      "rule [51 91]\n",
      "after rule_broken at index i 1\n",
      "rule [51 66]\n",
      "after rule_broken at index i 1\n",
      "rule [51 72]\n",
      "after rule_broken at index i 1\n",
      "rule [51 96]\n",
      "before rule_broken at index i 1\n",
      "rule [27 51]\n",
      "after rule_broken at index i 2\n",
      "rule [67 91]\n",
      "after rule_broken at index i 2\n",
      "rule [67 58]\n",
      "after rule_broken at index i 2\n",
      "rule [67 96]\n",
      "after rule_broken at index i 2\n",
      "rule [67 72]\n",
      "after rule_broken at index i 2\n",
      "rule [67 42]\n",
      "after rule_broken at index i 2\n",
      "rule [67 39]\n",
      "after rule_broken at index i 2\n",
      "rule [67 86]\n",
      "after rule_broken at index i 2\n",
      "rule [67 66]\n",
      "before rule_broken at index i 2\n",
      "rule [27 67]\n",
      "before rule_broken at index i 2\n",
      "rule [51 67]\n",
      "after rule_broken at index i 3\n",
      "rule [91 72]\n",
      "after rule_broken at index i 3\n",
      "rule [91 66]\n",
      "after rule_broken at index i 3\n",
      "rule [91 39]\n",
      "after rule_broken at index i 3\n",
      "rule [91 96]\n",
      "after rule_broken at index i 3\n",
      "rule [91 42]\n",
      "after rule_broken at index i 3\n",
      "rule [91 58]\n",
      "after rule_broken at index i 3\n",
      "rule [91 86]\n",
      "before rule_broken at index i 3\n",
      "rule [27 91]\n",
      "before rule_broken at index i 3\n",
      "rule [67 91]\n",
      "before rule_broken at index i 3\n",
      "rule [51 91]\n",
      "after rule_broken at index i 4\n",
      "rule [42 72]\n",
      "after rule_broken at index i 4\n",
      "rule [42 66]\n",
      "after rule_broken at index i 4\n",
      "rule [42 58]\n",
      "after rule_broken at index i 4\n",
      "rule [42 96]\n",
      "after rule_broken at index i 4\n",
      "rule [42 39]\n",
      "after rule_broken at index i 4\n",
      "rule [42 86]\n",
      "before rule_broken at index i 4\n",
      "rule [91 42]\n",
      "before rule_broken at index i 4\n",
      "rule [67 42]\n",
      "before rule_broken at index i 4\n",
      "rule [51 42]\n",
      "before rule_broken at index i 4\n",
      "rule [27 42]\n",
      "after rule_broken at index i 5\n",
      "rule [86 96]\n",
      "after rule_broken at index i 5\n",
      "rule [86 58]\n",
      "after rule_broken at index i 5\n",
      "rule [86 66]\n",
      "after rule_broken at index i 5\n",
      "rule [86 72]\n",
      "after rule_broken at index i 5\n",
      "rule [86 39]\n",
      "before rule_broken at index i 5\n",
      "rule [67 86]\n",
      "before rule_broken at index i 5\n",
      "rule [42 86]\n",
      "before rule_broken at index i 5\n",
      "rule [51 86]\n",
      "before rule_broken at index i 5\n",
      "rule [27 86]\n",
      "before rule_broken at index i 5\n",
      "rule [91 86]\n",
      "after rule_broken at index i 6\n",
      "rule [58 39]\n",
      "after rule_broken at index i 6\n",
      "rule [58 72]\n",
      "after rule_broken at index i 6\n",
      "rule [58 66]\n",
      "after rule_broken at index i 6\n",
      "rule [58 96]\n",
      "before rule_broken at index i 6\n",
      "rule [91 58]\n",
      "before rule_broken at index i 6\n",
      "rule [67 58]\n",
      "before rule_broken at index i 6\n",
      "rule [42 58]\n",
      "before rule_broken at index i 6\n",
      "rule [51 58]\n",
      "before rule_broken at index i 6\n",
      "rule [86 58]\n",
      "before rule_broken at index i 6\n",
      "rule [27 58]\n",
      "after rule_broken at index i 7\n",
      "rule [66 96]\n",
      "after rule_broken at index i 7\n",
      "rule [66 39]\n",
      "after rule_broken at index i 7\n",
      "rule [66 72]\n",
      "before rule_broken at index i 7\n",
      "rule [27 66]\n",
      "before rule_broken at index i 7\n",
      "rule [91 66]\n",
      "before rule_broken at index i 7\n",
      "rule [67 66]\n",
      "before rule_broken at index i 7\n",
      "rule [42 66]\n",
      "before rule_broken at index i 7\n",
      "rule [51 66]\n",
      "before rule_broken at index i 7\n",
      "rule [86 66]\n",
      "before rule_broken at index i 7\n",
      "rule [58 66]\n",
      "after rule_broken at index i 8\n",
      "rule [39 96]\n",
      "after rule_broken at index i 8\n",
      "rule [39 72]\n",
      "before rule_broken at index i 8\n",
      "rule [58 39]\n",
      "before rule_broken at index i 8\n",
      "rule [27 39]\n",
      "before rule_broken at index i 8\n",
      "rule [91 39]\n",
      "before rule_broken at index i 8\n",
      "rule [67 39]\n",
      "before rule_broken at index i 8\n",
      "rule [42 39]\n",
      "before rule_broken at index i 8\n",
      "rule [51 39]\n",
      "before rule_broken at index i 8\n",
      "rule [86 39]\n",
      "before rule_broken at index i 8\n",
      "rule [66 39]\n",
      "after rule_broken at index i 9\n",
      "rule [72 96]\n",
      "before rule_broken at index i 9\n",
      "rule [58 72]\n",
      "before rule_broken at index i 9\n",
      "rule [27 72]\n",
      "before rule_broken at index i 9\n",
      "rule [91 72]\n",
      "before rule_broken at index i 9\n",
      "rule [67 72]\n",
      "before rule_broken at index i 9\n",
      "rule [42 72]\n",
      "before rule_broken at index i 9\n",
      "rule [51 72]\n",
      "before rule_broken at index i 9\n",
      "rule [86 72]\n",
      "before rule_broken at index i 9\n",
      "rule [66 72]\n",
      "before rule_broken at index i 9\n",
      "rule [39 72]\n",
      "before rule_broken at index i 10\n",
      "rule [66 96]\n",
      "before rule_broken at index i 10\n",
      "rule [39 96]\n",
      "before rule_broken at index i 10\n",
      "rule [27 96]\n",
      "before rule_broken at index i 10\n",
      "rule [91 96]\n",
      "before rule_broken at index i 10\n",
      "rule [67 96]\n",
      "before rule_broken at index i 10\n",
      "rule [42 96]\n",
      "before rule_broken at index i 10\n",
      "rule [51 96]\n",
      "before rule_broken at index i 10\n",
      "rule [86 96]\n",
      "before rule_broken at index i 10\n",
      "rule [72 96]\n",
      "before rule_broken at index i 10\n",
      "rule [58 96]\n"
     ]
    },
    {
     "data": {
      "text/plain": [
       "array([27, 51, 67, 91, 42, 86, 58, 66, 39, 72, 96])"
      ]
     },
     "execution_count": 44,
     "metadata": {},
     "output_type": "execute_result"
    }
   ],
   "source": [
    "test_array = d5_array[0]\n",
    "for i in range(len(test_array)):\n",
    "    \n",
    "    value = d5_array[0][i] \n",
    "    \n",
    "    for rule in after_rules: #Iterate through after rules \n",
    "        \n",
    "        if value == rule[1]:\n",
    "            breaks_rule = np.isin(test_array[i:], rule[0]) \n",
    "            if np.any(breaks_rule):\n",
    "                \n",
    "                print('after rule_broken at index i', i)\n",
    "                print('rule', rule)\n",
    "                \n",
    "    for rule in before_rules: #Iterate through before rules\n",
    "        \n",
    "        if value == rule[1]:\n",
    "            breaks_rule = np.isin(test_array[:i], rule[0])\n",
    "            \n",
    "            if np.any(breaks_rule):\n",
    "                print('before rule_broken at index i',i)\n",
    "                print('rule', rule)\n",
    "    \n",
    "            \n",
    "            \n",
    "d5_array[0]"
   ]
  },
  {
   "cell_type": "code",
   "execution_count": null,
   "id": "f23d0a55-b42a-4464-8852-372d98057074",
   "metadata": {},
   "outputs": [],
   "source": [
    "# Check if the second page is in the rules\n"
   ]
  },
  {
   "cell_type": "code",
   "execution_count": 22,
   "id": "6418f40f-18e1-4877-9686-dc09ead01737",
   "metadata": {},
   "outputs": [
    {
     "data": {
      "text/plain": [
       "np.True_"
      ]
     },
     "execution_count": 22,
     "metadata": {},
     "output_type": "execute_result"
    }
   ],
   "source": [
    "np.any(before_mask)"
   ]
  }
 ],
 "metadata": {
  "kernelspec": {
   "display_name": "Python 3 (ipykernel)",
   "language": "python",
   "name": "python3"
  },
  "language_info": {
   "codemirror_mode": {
    "name": "ipython",
    "version": 3
   },
   "file_extension": ".py",
   "mimetype": "text/x-python",
   "name": "python",
   "nbconvert_exporter": "python",
   "pygments_lexer": "ipython3",
   "version": "3.13.0"
  }
 },
 "nbformat": 4,
 "nbformat_minor": 5
}
