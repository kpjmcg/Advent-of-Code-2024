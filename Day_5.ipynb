{
 "cells": [
  {
   "cell_type": "code",
   "execution_count": 1,
   "id": "468f7008-81b8-4b3c-842e-b1ebb5fe20a6",
   "metadata": {},
   "outputs": [],
   "source": [
    "import numpy as np"
   ]
  },
  {
   "cell_type": "code",
   "execution_count": 9,
   "id": "1f761ed9-3942-47c2-a42e-18c5bd12722f",
   "metadata": {},
   "outputs": [
    {
     "data": {
      "text/plain": [
       "array([[96, 15],\n",
       "       [69, 95],\n",
       "       [69, 66],\n",
       "       [41, 61],\n",
       "       [41, 26]])"
      ]
     },
     "execution_count": 9,
     "metadata": {},
     "output_type": "execute_result"
    }
   ],
   "source": [
    "rules = np.genfromtxt('d5_rules.txt',delimiter='|',dtype=int)\n",
    "rules[:5]"
   ]
  },
  {
   "cell_type": "code",
   "execution_count": null,
   "id": "765489ca-be5a-4380-930c-1f50ff238773",
   "metadata": {},
   "outputs": [],
   "source": []
  }
 ],
 "metadata": {
  "kernelspec": {
   "display_name": "Python 3 (ipykernel)",
   "language": "python",
   "name": "python3"
  },
  "language_info": {
   "codemirror_mode": {
    "name": "ipython",
    "version": 3
   },
   "file_extension": ".py",
   "mimetype": "text/x-python",
   "name": "python",
   "nbconvert_exporter": "python",
   "pygments_lexer": "ipython3",
   "version": "3.13.0"
  }
 },
 "nbformat": 4,
 "nbformat_minor": 5
}
