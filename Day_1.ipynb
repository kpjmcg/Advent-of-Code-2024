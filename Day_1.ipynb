{
 "cells": [
  {
   "cell_type": "code",
   "execution_count": 1,
   "id": "fc49f3c8-6b0d-41dc-ae53-f2c7aae4fcba",
   "metadata": {},
   "outputs": [],
   "source": [
    "import numpy as np \n",
    "from collections import Counter"
   ]
  },
  {
   "cell_type": "markdown",
   "id": "bb64c94c-3314-4210-8b0a-2b963eeafaf6",
   "metadata": {},
   "source": [
    "Getting the data "
   ]
  },
  {
   "cell_type": "code",
   "execution_count": 2,
   "id": "05730193-21fe-4eb9-950f-d4ff8170a875",
   "metadata": {},
   "outputs": [
    {
     "data": {
      "text/plain": [
       "array(['10029', '95431'], dtype='<U5')"
      ]
     },
     "execution_count": 2,
     "metadata": {},
     "output_type": "execute_result"
    }
   ],
   "source": [
    "d1_input = np.genfromtxt('d1_input.csv', dtype = 'str')\n",
    "d1_input[-2]"
   ]
  },
  {
   "cell_type": "markdown",
   "id": "8a23f84d-7536-4e9c-ace0-4820998cc09b",
   "metadata": {},
   "source": [
    "# Part 1: The incorrect method\n",
    "Based off an incorrect interpretation of the question, correct method at bottom"
   ]
  },
  {
   "cell_type": "code",
   "execution_count": 3,
   "id": "92b83b0c-4982-4626-afba-c7fd0cce5d6d",
   "metadata": {},
   "outputs": [],
   "source": [
    "def distance_calculator(inp):\n",
    "    #Steps \n",
    "    #Get two lists of integers \n",
    "    two_lists = np.array([[[int(digit) for digit in entry] for entry in row] for row in inp])\n",
    "    #Sort two lists of integers\n",
    "    two_lists.sort(axis=2)\n",
    "    #Subtract the two list of integers and get absolute value \n",
    "    differences = np.abs(np.subtract(two_lists[:,0],two_lists[:,1]))\n",
    "    \n",
    "    #Sum result\n",
    "    return differences.sum(axis=1)\n",
    "result_list = distance_calculator(d1_input)"
   ]
  },
  {
   "cell_type": "code",
   "execution_count": 4,
   "id": "61beee08-9b30-4afe-9fc5-8a7f9ac651e9",
   "metadata": {},
   "outputs": [
    {
     "data": {
      "text/plain": [
       "np.int64(8856)"
      ]
     },
     "execution_count": 4,
     "metadata": {},
     "output_type": "execute_result"
    }
   ],
   "source": [
    "sum(result_list)"
   ]
  },
  {
   "cell_type": "code",
   "execution_count": 5,
   "id": "03bd2117-b1bb-4950-b6b1-c95eef7ebed6",
   "metadata": {},
   "outputs": [
    {
     "data": {
      "text/plain": [
       "np.int64(11)"
      ]
     },
     "execution_count": 5,
     "metadata": {},
     "output_type": "execute_result"
    }
   ],
   "source": [
    "test_input = np.array([['342133','435393']])\n",
    "test = np.array([[[int(digit) for digit in entry] for entry in row] for row in test_input])\n",
    "test.sort(axis=2)\n",
    "np.abs(np.subtract(test[:,0],test[:,1])).sum()\n",
    "#distance_calculator(test_input) == 11"
   ]
  },
  {
   "cell_type": "code",
   "execution_count": 6,
   "id": "7691a5bb-9a63-4a88-8a5f-34b7cb26ce23",
   "metadata": {},
   "outputs": [
    {
     "data": {
      "text/plain": [
       "(1000, 2, 5)"
      ]
     },
     "execution_count": 6,
     "metadata": {},
     "output_type": "execute_result"
    }
   ],
   "source": [
    "d1_lists = np.array([[[int(digit) for digit in entry] for entry in row] for row in d1_input])\n",
    "d1_lists.shape"
   ]
  },
  {
   "cell_type": "code",
   "execution_count": 18,
   "id": "47d33212-0278-436d-9fe6-5747e14cbcd1",
   "metadata": {},
   "outputs": [
    {
     "data": {
      "text/plain": [
       "array([12,  5,  6,  6, 11])"
      ]
     },
     "execution_count": 18,
     "metadata": {},
     "output_type": "execute_result"
    }
   ],
   "source": [
    "result_list[:5]"
   ]
  },
  {
   "cell_type": "code",
   "execution_count": 7,
   "id": "f3c03275-92cc-462c-b19b-b00c6ca6c7ad",
   "metadata": {},
   "outputs": [
    {
     "name": "stdout",
     "output_type": "stream",
     "text": [
      "Total distance for all test cases: 8856\n"
     ]
    }
   ],
   "source": [
    "# Function to calculate total distance for a single test case\n",
    "# Example input data\n",
    "\n",
    "def calculate_total_distance(test_case):\n",
    "    left_list = np.sort(test_case[0])  # Sort the first list\n",
    "    right_list = np.sort(test_case[1])  # Sort the second list\n",
    "    return np.sum(np.abs(left_list - right_list))  # Compute and return the total distance\n",
    "\n",
    "# Apply the function to each test case\n",
    "distances = np.array([calculate_total_distance(test_case) for test_case in d1_lists])\n",
    "\n",
    "# Sum of all distances across all test cases\n",
    "total_distance = np.sum(distances)\n",
    "\n",
    "print(f\"Total distance for all test cases: {total_distance}\")"
   ]
  },
  {
   "cell_type": "markdown",
   "id": "1ffc2da2-1391-452b-9a46-8290ed0f4816",
   "metadata": {},
   "source": [
    "# Part 1: The Actual Answer \n",
    "The methods above this were based off an incorrect interpretation of the question"
   ]
  },
  {
   "cell_type": "code",
   "execution_count": 8,
   "id": "1d437a5f-d6d4-4901-9093-3164a92b0553",
   "metadata": {},
   "outputs": [],
   "source": [
    "d1_int = d1_input.astype(int)"
   ]
  },
  {
   "cell_type": "code",
   "execution_count": 9,
   "id": "4672c178-6a6f-4f50-8498-6b18786f459a",
   "metadata": {},
   "outputs": [
    {
     "data": {
      "text/plain": [
       "np.int64(1651298)"
      ]
     },
     "execution_count": 9,
     "metadata": {},
     "output_type": "execute_result"
    }
   ],
   "source": [
    "list1 = d1_int[:,0]\n",
    "list1.sort()\n",
    "list2 = d1_int[:,1]\n",
    "list2.sort()\n",
    "list_diff = list1 - list2\n",
    "np.abs(list_diff).sum()"
   ]
  },
  {
   "cell_type": "markdown",
   "id": "a8dda8c3-fc16-47c9-8ad2-55d9abbc586e",
   "metadata": {},
   "source": [
    "# Part 2"
   ]
  },
  {
   "cell_type": "markdown",
   "id": "e22a6e30-0925-4bc2-bfc5-979c81d0a25c",
   "metadata": {},
   "source": [
    "This solution should account for whether there are repeats in the left list, it does this by checking creating a dictionary that counts the number of number occurances in the left list. The set(left list) is used for the multiplier comparison. "
   ]
  },
  {
   "cell_type": "code",
   "execution_count": 59,
   "id": "a9afad47-193e-4ee9-ae2c-235c3b7d630a",
   "metadata": {},
   "outputs": [
    {
     "data": {
      "text/plain": [
       "21306195"
      ]
     },
     "execution_count": 59,
     "metadata": {},
     "output_type": "execute_result"
    }
   ],
   "source": [
    "occur_dic = Counter(list1)\n",
    "mul_dic = {}\n",
    "\n",
    "for number1 in set(list1):\n",
    "    for number2 in list2:\n",
    "        if number1 == number2:\n",
    "            try:\n",
    "                mul_dic[int(number1)] += 1\n",
    "            except:\n",
    "                mul_dic[int(number1)] = 1\n",
    "# Accounting for the number of repeats in the first list             \n",
    "for number, occurrances in mul_dic.items():\n",
    "    mul_dic[number] = mul_dic[number] * occur_dic[number]\n",
    "    \n",
    "similarity = 0\n",
    "for num, occurrances in mul_dic.items():\n",
    "    similarity += num*occurrances\n",
    "similarity"
   ]
  },
  {
   "cell_type": "markdown",
   "id": "1d273196-dd66-49d1-9540-f320d0dfb48c",
   "metadata": {},
   "source": [
    "This solution does not account for repeats, slightly faster if there aren't any repeats in the left list"
   ]
  },
  {
   "cell_type": "code",
   "execution_count": 40,
   "id": "f16e7dce-64e4-463e-9c99-5b03721fa056",
   "metadata": {},
   "outputs": [],
   "source": [
    "#Number of multiples in right list\n",
    "mul_dic = {} #Dictionary to contain multiples as {NUMBER:AMOUNT}\n",
    "\n",
    "#Multiples\n",
    "for number1 in list1:\n",
    "    for number2 in list2:\n",
    "        if number1 == number2:\n",
    "            try:\n",
    "                mul_dic[int(number1)] += 1\n",
    "            except:\n",
    "                mul_dic[int(number1)] = 1\n",
    "        \n",
    "#Sum of multiples"
   ]
  },
  {
   "cell_type": "code",
   "execution_count": 44,
   "id": "f6f0bf10-8342-4561-867d-4602bd03cc33",
   "metadata": {},
   "outputs": [
    {
     "data": {
      "text/plain": [
       "21306195"
      ]
     },
     "execution_count": 44,
     "metadata": {},
     "output_type": "execute_result"
    }
   ],
   "source": [
    "similarity = 0\n",
    "for num, occurrances in mul_dic.items():\n",
    "    similarity += num*occurrances\n",
    "similarity"
   ]
  }
 ],
 "metadata": {
  "kernelspec": {
   "display_name": "Python 3 (ipykernel)",
   "language": "python",
   "name": "python3"
  },
  "language_info": {
   "codemirror_mode": {
    "name": "ipython",
    "version": 3
   },
   "file_extension": ".py",
   "mimetype": "text/x-python",
   "name": "python",
   "nbconvert_exporter": "python",
   "pygments_lexer": "ipython3",
   "version": "3.13.0"
  }
 },
 "nbformat": 4,
 "nbformat_minor": 5
}
