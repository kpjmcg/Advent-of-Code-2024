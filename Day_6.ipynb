{
 "cells": [
  {
   "cell_type": "code",
   "execution_count": 1,
   "id": "80abc9c5-1f9e-413e-85c6-0b33b955ab4a",
   "metadata": {},
   "outputs": [],
   "source": [
    "import numpy as np"
   ]
  },
  {
   "cell_type": "code",
   "execution_count": 2,
   "id": "91137519-b127-4f18-a783-0d7a4bc0c2d0",
   "metadata": {},
   "outputs": [
    {
     "data": {
      "text/plain": [
       "array([['.', '.', '#', '.', '.'],\n",
       "       ['.', '.', '.', '.', '.'],\n",
       "       ['.', '.', '.', '.', '.'],\n",
       "       ['.', '.', '.', '.', '.'],\n",
       "       ['#', '.', '.', '.', '.']], dtype='<U1')"
      ]
     },
     "execution_count": 2,
     "metadata": {},
     "output_type": "execute_result"
    }
   ],
   "source": [
    "d6_input = open('d6_input.txt')\n",
    "d6_input = d6_input.readlines().copy()\n",
    "d6_input = np.array([list(line.strip()) for line in d6_input])\n",
    "d6_input[:5,:5]"
   ]
  },
  {
   "cell_type": "markdown",
   "id": "e5bdf202-9817-43d5-a1c5-2148402cfd7f",
   "metadata": {},
   "source": [
    "# Part One "
   ]
  },
  {
   "cell_type": "code",
   "execution_count": 3,
   "id": "9fb33a74-3b9d-4c9d-bb5c-11bb1ba771fd",
   "metadata": {},
   "outputs": [
    {
     "data": {
      "text/plain": [
       "(array([37]), array([65]))"
      ]
     },
     "execution_count": 3,
     "metadata": {},
     "output_type": "execute_result"
    }
   ],
   "source": [
    "hashtags = np.where(d6_input =='#')\n",
    "starting_spot = np.where(d6_input == '^')\n",
    "starting_spot"
   ]
  },
  {
   "cell_type": "code",
   "execution_count": 8,
   "id": "f4d99a8d-f895-4bf2-966c-428c8a8b0a8f",
   "metadata": {},
   "outputs": [
    {
     "data": {
      "text/plain": [
       "5950"
      ]
     },
     "execution_count": 8,
     "metadata": {},
     "output_type": "execute_result"
    }
   ],
   "source": [
    "def path_maker(input_array):\n",
    "    \n",
    "    starting_spot = np.where(input_array == '^')\n",
    "    path = input_array.copy()\n",
    "    current_spot = starting_spot\n",
    "    is_in_bounds =  0 <= current_spot[0] < input_array.shape[0] and 0 <= current_spot[1] < input_array.shape[1]\n",
    "    character = '^'\n",
    "    steps = 0\n",
    "    while is_in_bounds:\n",
    "        i , j = current_spot\n",
    "        try:\n",
    "            if character == '>': \n",
    "                \n",
    "                if input_array[i,j+1] == '#':\n",
    "                    character = 'v'\n",
    "                    continue\n",
    "                else:\n",
    "                    path[current_spot] = 'X'\n",
    "                    steps +=1\n",
    "                    current_spot = (i,j+1)\n",
    "            if character == 'v': \n",
    "                if input_array[i+1,j] == '#':\n",
    "                    character = '<'\n",
    "                    continue\n",
    "                else:\n",
    "                    path[current_spot] = 'X'\n",
    "                    steps += 1\n",
    "                    current_spot = (i+1,j)    \n",
    "            if character =='<': \n",
    "                if input_array[i,j-1] =='#':\n",
    "                    character = '^'\n",
    "                    continue\n",
    "                else:\n",
    "                    path[current_spot] = 'X'\n",
    "                    steps += 1\n",
    "                    current_spot = (i,j-1)\n",
    "            if character == '^': \n",
    "                if input_array[i-1,j] == '#':\n",
    "                    character = '>'\n",
    "                    continue\n",
    "                else:\n",
    "                    path[current_spot] = 'X'\n",
    "                    steps +=1\n",
    "                    current_spot = (i-1,j)\n",
    "        except:\n",
    "            is_in_bounds = False \n",
    "    return steps, path\n",
    "            \n",
    "path_maker(d6_input)[0]"
   ]
  },
  {
   "cell_type": "code",
   "execution_count": 9,
   "id": "e52a43d5-4d0d-4770-9e2c-26861b2b4578",
   "metadata": {},
   "outputs": [],
   "source": [
    "np.savetxt('d6_path.txt',path_maker(d6_input)[1],fmt='%s')"
   ]
  },
  {
   "cell_type": "markdown",
   "id": "7a317b62-ce08-4cf7-b34a-ba55bdd8da7e",
   "metadata": {},
   "source": [
    "# Part Two "
   ]
  },
  {
   "cell_type": "code",
   "execution_count": 12,
   "id": "bb68c578-3eac-49ee-97c4-d9ac2188e6fb",
   "metadata": {},
   "outputs": [
    {
     "data": {
      "text/plain": [
       "array([['.', '.', '.', '.', '#'],\n",
       "       ['.', '.', '.', '.', '.'],\n",
       "       ['.', '.', '.', '.', '.'],\n",
       "       ['.', '.', '#', '.', '.'],\n",
       "       ['.', '.', '.', '.', '.']], dtype='<U1')"
      ]
     },
     "execution_count": 12,
     "metadata": {},
     "output_type": "execute_result"
    }
   ],
   "source": [
    "d6_test = open('d6_test.txt')\n",
    "d6_test = d6_test.readlines().copy()\n",
    "d6_test = np.array([list(line.strip()) for line in d6_test])\n",
    "d6_test[:5,:5]"
   ]
  },
  {
   "cell_type": "code",
   "execution_count": 13,
   "id": "3a766d57-b3d6-4082-90e2-91893dd5dd05",
   "metadata": {},
   "outputs": [],
   "source": [
    "#path = d6_test.copy()\n",
    "#path.shape == d6_test.shape"
   ]
  },
  {
   "cell_type": "code",
   "execution_count": 27,
   "id": "aead2f45-41d9-44d6-bf86-99343497a0c3",
   "metadata": {},
   "outputs": [
    {
     "data": {
      "text/plain": [
       "1040"
      ]
     },
     "execution_count": 27,
     "metadata": {},
     "output_type": "execute_result"
    }
   ],
   "source": [
    "130*8"
   ]
  },
  {
   "cell_type": "code",
   "execution_count": 36,
   "id": "a3ae51fc-ecb7-43ea-975d-c6e6d1d8c492",
   "metadata": {},
   "outputs": [
    {
     "data": {
      "text/plain": [
       "{3: 2, 4: 10}"
      ]
     },
     "execution_count": 36,
     "metadata": {},
     "output_type": "execute_result"
    }
   ],
   "source": [
    "ban = {3:2,4:3}\n",
    "bana = ban.copy()\n",
    "bana[4] = 10\n",
    "bana"
   ]
  },
  {
   "cell_type": "code",
   "execution_count": 39,
   "id": "a869a5fe-786c-46c9-9bcf-543aba977d28",
   "metadata": {},
   "outputs": [
    {
     "name": "stdout",
     "output_type": "stream",
     "text": [
      "0\n",
      "1\n",
      "2\n"
     ]
    }
   ],
   "source": [
    "x = 0\n",
    "while x <=5:\n",
    "    print(x)\n",
    "    x += 1\n",
    "    if x == 3:\n",
    "        break"
   ]
  },
  {
   "cell_type": "code",
   "execution_count": null,
   "id": "ffe3df40-e36b-4d1a-a9b7-7989fb88116e",
   "metadata": {},
   "outputs": [],
   "source": [
    "#Check if in loop:\n"
   ]
  },
  {
   "cell_type": "code",
   "execution_count": 34,
   "id": "98820e9c-91ac-4b99-907b-207c6c937312",
   "metadata": {},
   "outputs": [],
   "source": [
    "def loop_finder(input_array, found_loops):\n",
    "    \n",
    "    starting_spot = np.where(input_array == '^')\n",
    "\n",
    "    current_spot = starting_spot\n",
    "    is_in_bounds = lambda x, y: 0 <= x < input_array.shape[0] and 0 <= y < input_array.shape[1]\n",
    "    character = '^'\n",
    "    current_loop = {}\n",
    "    while is_in_bounds(*current_spot) == True :\n",
    "        i , j = current_spot\n",
    "        \n",
    "        if found_loops[current_spot] == character: #Check if we've already found this loop\n",
    "            break \n",
    "        #Check if in a loop \n",
    "        if current_loop[current_spot] == current_character:\n",
    "        #In loop\n",
    "            \n",
    "        try:\n",
    "            if character == '>': \n",
    "                \n",
    "                if input_array[i,j+1] == '#':\n",
    "                    character = 'v'\n",
    "                    continue\n",
    "                else:\n",
    "                    current_loop[current_spot] = character\n",
    "\n",
    "                    current_spot = (i,j+1)\n",
    "            if character == 'v': \n",
    "                if input_array[i+1,j] == '#':\n",
    "                    character = '<'\n",
    "                    continue\n",
    "                else:\n",
    "                    current_loop[current_spot] = character\n",
    "\n",
    "                    current_spot = (i+1,j)    \n",
    "            if character =='<': \n",
    "                if input_array[i,j-1] =='#':\n",
    "                    character = '^'\n",
    "                    continue\n",
    "                else:\n",
    "                    current_loop[current_spot] = character\n",
    "\n",
    "                    current_spot = (i,j-1)\n",
    "            if character == '^': \n",
    "                if input_array[i-1,j] == '#':\n",
    "                    character = '>'\n",
    "                    continue\n",
    "                else:\n",
    "                    current_loop[current_spot] = character\n",
    "\n",
    "                    current_spot = (i-1,j)\n",
    "        except:\n",
    "            is_in_bounds = False \n",
    "    return is_in_bounds #Should return false when the character exits\n"
   ]
  },
  {
   "cell_type": "code",
   "execution_count": 30,
   "id": "90aa5ef8-1299-48a9-97ff-7bd895f86ffd",
   "metadata": {},
   "outputs": [
    {
     "data": {
      "text/plain": [
       "array([ True])"
      ]
     },
     "execution_count": 30,
     "metadata": {},
     "output_type": "execute_result"
    }
   ],
   "source": [
    "starting_spot = np.where(d6_test == '^')\n",
    "d6_testloop = d6_test.copy()\n",
    "d6_testloop[starting_spot,starting_spot[1]-1] = '#'\n",
    "loop_finder(d6_testloop, 50)"
   ]
  },
  {
   "cell_type": "code",
   "execution_count": 31,
   "id": "179eea5c-af91-4355-ac14-dd8e6eb24620",
   "metadata": {},
   "outputs": [
    {
     "data": {
      "text/plain": [
       "False"
      ]
     },
     "execution_count": 31,
     "metadata": {},
     "output_type": "execute_result"
    }
   ],
   "source": [
    "loop_finder(d6_test, 50)"
   ]
  },
  {
   "cell_type": "code",
   "execution_count": 32,
   "id": "af217661-d782-4df7-a304-fce5b44b8619",
   "metadata": {},
   "outputs": [
    {
     "name": "stderr",
     "output_type": "stream",
     "text": [
      "C:\\Users\\Kieran McGee\\AppData\\Local\\Temp\\ipykernel_2092\\1210137950.py:6: DeprecationWarning: The truth value of an empty array is ambiguous. Returning False, but in future this will result in an error. Use `array.size > 0` to check that an array is not empty.\n",
      "  is_in_bounds =  0 <= current_spot[0] < input_array.shape[0] and 0 <= current_spot[1] < input_array.shape[1]\n",
      "C:\\Users\\Kieran McGee\\AppData\\Local\\Temp\\ipykernel_2092\\1210137950.py:10: DeprecationWarning: The truth value of an empty array is ambiguous. Returning False, but in future this will result in an error. Use `array.size > 0` to check that an array is not empty.\n",
      "  while is_in_bounds == True and steps <= maximum_steps:\n",
      "C:\\Users\\Kieran McGee\\AppData\\Local\\Temp\\ipykernel_2092\\330273880.py:9: DeprecationWarning: The truth value of an empty array is ambiguous. Returning False, but in future this will result in an error. Use `array.size > 0` to check that an array is not empty.\n",
      "  if loop_finder(d6_testloop, step_count):\n"
     ]
    },
    {
     "data": {
      "text/plain": [
       "5"
      ]
     },
     "execution_count": 32,
     "metadata": {},
     "output_type": "execute_result"
    }
   ],
   "source": [
    "step_count, path = path_maker(d6_test)\n",
    "indices = np.where(path == 'X')\n",
    "blockpoints = list(zip(indices[0], indices[1]))\n",
    "loop_count = 0\n",
    "for blockpoint in blockpoints:\n",
    "    starting_spot = np.where(d6_test == '^')\n",
    "    d6_testloop = d6_test.copy()\n",
    "    d6_testloop[blockpoint] = '#'\n",
    "    if loop_finder(d6_testloop, step_count):\n",
    "        loop_count += 1\n",
    "loop_count"
   ]
  },
  {
   "cell_type": "code",
   "execution_count": 33,
   "id": "4a21d878-48be-4207-a833-2d0a99ac60aa",
   "metadata": {},
   "outputs": [
    {
     "name": "stderr",
     "output_type": "stream",
     "text": [
      "C:\\Users\\Kieran McGee\\AppData\\Local\\Temp\\ipykernel_2092\\1210137950.py:6: DeprecationWarning: The truth value of an empty array is ambiguous. Returning False, but in future this will result in an error. Use `array.size > 0` to check that an array is not empty.\n",
      "  is_in_bounds =  0 <= current_spot[0] < input_array.shape[0] and 0 <= current_spot[1] < input_array.shape[1]\n",
      "C:\\Users\\Kieran McGee\\AppData\\Local\\Temp\\ipykernel_2092\\1210137950.py:10: DeprecationWarning: The truth value of an empty array is ambiguous. Returning False, but in future this will result in an error. Use `array.size > 0` to check that an array is not empty.\n",
      "  while is_in_bounds == True and steps <= maximum_steps:\n",
      "C:\\Users\\Kieran McGee\\AppData\\Local\\Temp\\ipykernel_2092\\1615466815.py:9: DeprecationWarning: The truth value of an empty array is ambiguous. Returning False, but in future this will result in an error. Use `array.size > 0` to check that an array is not empty.\n",
      "  if loop_finder(d6_loop, step_count):\n"
     ]
    },
    {
     "data": {
      "text/plain": [
       "2222"
      ]
     },
     "execution_count": 33,
     "metadata": {},
     "output_type": "execute_result"
    }
   ],
   "source": [
    "step_count, path = path_maker(d6_input)\n",
    "indices = np.where(path == 'X')\n",
    "blockpoints = list(zip(indices[0], indices[1]))\n",
    "loop_count = 0\n",
    "for blockpoint in blockpoints:\n",
    "    starting_spot = np.where(d6_input == '^')\n",
    "    d6_loop = d6_input.copy()\n",
    "    d6_loop[blockpoint] = '#'\n",
    "    if loop_finder(d6_loop, step_count):\n",
    "        loop_count += 1\n",
    "loop_count"
   ]
  },
  {
   "cell_type": "code",
   "execution_count": 17,
   "id": "7ae31113-aef2-4635-9e72-69a5129b10db",
   "metadata": {},
   "outputs": [
    {
     "data": {
      "text/plain": [
       "0"
      ]
     },
     "execution_count": 17,
     "metadata": {},
     "output_type": "execute_result"
    }
   ],
   "source": [
    "steps = 0\n",
    "loop_count = 0\n",
    "starting_spot = np.where(d6_input == '^')\n",
    "indices = np.where(path == 'X')\n",
    "blockpoints = list(zip(indices[0], indices[1]))\n",
    "\n",
    "for blockpoint in blockpoints[1:]:\n",
    "    current_spot = starting_spot\n",
    "    current_path = d6_input.copy()\n",
    "    current_path[blockpoint] = '#' #Try the blockpoint\n",
    "    is_in_bounds =  True\n",
    "    character = '^'\n",
    "    loop_dictionary = {'>': None}\n",
    "    \n",
    "\n",
    "    while is_in_bounds:\n",
    "        i , j = current_spot\n",
    "        try:\n",
    "            if character == '>': \n",
    "                \n",
    "                if current_path[i,j+1] == '#':\n",
    "                    if loop_dictionary['>'] == current_spot:\n",
    "                        loop_count +=1\n",
    "                        is_in_bounds = False\n",
    "                        continue\n",
    "                    else:\n",
    "                        loop_dictionary['>'] = current_spot\n",
    "                    character = 'v'\n",
    "                    break\n",
    "                else:\n",
    "                    current_spot = (i,j+1)\n",
    "                    \n",
    "            if character == 'v': \n",
    "                if current_path[i+1,j] == '#':\n",
    "                    character = '<'\n",
    "                    continue\n",
    "                else:\n",
    "                    current_spot = (i+1,j)    \n",
    "                    \n",
    "            if character =='<': \n",
    "                if current_path[i,j-1] =='#':\n",
    "                    character = '^'\n",
    "                    continue\n",
    "                else:\n",
    "                    current_spot = (i,j-1)\n",
    "            if character == '^': \n",
    "                if current_path[i-1,j] == '#':\n",
    "                    character = '>'\n",
    "                    continue\n",
    "                else:\n",
    "                    current_spot = (i-1,j)\n",
    "        except:\n",
    "            is_in_bounds = False \n",
    "loop_count"
   ]
  },
  {
   "cell_type": "code",
   "execution_count": 31,
   "id": "d5bfefcf-75c1-4981-9c95-bd8b5d6cd2f7",
   "metadata": {},
   "outputs": [
    {
     "data": {
      "text/plain": [
       "True"
      ]
     },
     "execution_count": 31,
     "metadata": {},
     "output_type": "execute_result"
    }
   ],
   "source": [
    "test_dic = {(3,2):'v'}\n",
    "(3,2) in test_dic"
   ]
  },
  {
   "cell_type": "code",
   "execution_count": 33,
   "id": "5efdceea-1b03-4842-bd64-1f70179769db",
   "metadata": {},
   "outputs": [
    {
     "name": "stdout",
     "output_type": "stream",
     "text": [
      "Loop count: 0\n"
     ]
    }
   ],
   "source": [
    "steps = 0\n",
    "loop_count = 0\n",
    "starting_spot = tuple(np.argwhere(d6_input == '^')[0])  # Get starting position\n",
    "indices = np.where(d6_input == 'X')\n",
    "blockpoints = list(zip(indices[0], indices[1]))\n",
    "\n",
    "for blockpoint in blockpoints[1:]:\n",
    "    current_spot = starting_spot\n",
    "    current_path = d6_input.copy()\n",
    "    current_path[blockpoint] = '#'  # Try placing a block\n",
    "    is_in_bounds = True\n",
    "    character = '^'\n",
    "    visited = {}  # Keep track of visited positions to detect loops\n",
    "\n",
    "    while is_in_bounds:\n",
    "        i, j = current_spot\n",
    "\n",
    "        # Add the current position to the visited set\n",
    "        if current_spot in visited:\n",
    "            if visited[current_spot] == character:\n",
    "                loop_count += 1\n",
    "                is_in_bounds = False\n",
    "                continue\n",
    "        visited[current_spot] = character\n",
    "\n",
    "        # Determine the next move based on the character's direction\n",
    "        if character == '>':\n",
    "            if j + 1 >= current_path.shape[1] or current_path[i, j + 1] == '#':\n",
    "                character = 'v'  # Turn down\n",
    "            else:\n",
    "                current_spot = (i, j + 1)\n",
    "        elif character == 'v':\n",
    "            if i + 1 >= current_path.shape[0] or current_path[i + 1, j] == '#':\n",
    "                character = '<'  # Turn left\n",
    "            else:\n",
    "                current_spot = (i + 1, j)\n",
    "        elif character == '<':\n",
    "            if j - 1 < 0 or current_path[i, j - 1] == '#':\n",
    "                character = '^'  # Turn up\n",
    "            else:\n",
    "                current_spot = (i, j - 1)\n",
    "        elif character == '^':\n",
    "            if i - 1 < 0 or current_path[i - 1, j] == '#':\n",
    "                character = '>'  # Turn right\n",
    "            else:\n",
    "                current_spot = (i - 1, j)\n",
    "\n",
    "        # Check if the character has moved out of bounds\n",
    "        if not (0 <= current_spot[0] < current_path.shape[0] and 0 <= current_spot[1] < current_path.shape[1]):\n",
    "            is_in_bounds = False\n",
    "\n",
    "print(\"Loop count:\", loop_count)"
   ]
  },
  {
   "cell_type": "code",
   "execution_count": 35,
   "id": "efa4c1e8-32d7-4be6-9085-c9609a3a1ce1",
   "metadata": {},
   "outputs": [
    {
     "data": {
      "text/plain": [
       "(130, 130)"
      ]
     },
     "execution_count": 35,
     "metadata": {},
     "output_type": "execute_result"
    }
   ],
   "source": [
    "d6_input.shape"
   ]
  },
  {
   "cell_type": "code",
   "execution_count": 36,
   "id": "4c6bc398-9644-41c5-af4a-0fb7772ef543",
   "metadata": {},
   "outputs": [
    {
     "name": "stdout",
     "output_type": "stream",
     "text": [
      "Loop count: 0\n"
     ]
    }
   ],
   "source": [
    "steps = 0\n",
    "loop_count = 0\n",
    "starting_spot = tuple(np.argwhere(d6_input == '^')[0])  # Get starting position\n",
    "indices = np.where(d6_input == 'X')\n",
    "blockpoints = list(zip(indices[0], indices[1]))\n",
    "\n",
    "for blockpoint in blockpoints[1:]:\n",
    "    current_spot = starting_spot\n",
    "    current_path = d6_input.copy()\n",
    "    current_path[blockpoint] = '#'  # Place a block at the current blockpoint\n",
    "    is_in_bounds = True\n",
    "    character = '^'\n",
    "    visited = set()  # Track (position, direction) pairs to detect loops\n",
    "\n",
    "    while is_in_bounds:\n",
    "        i, j = current_spot\n",
    "\n",
    "        # Check if the (position, direction) pair was already visited\n",
    "        state = (current_spot, character)\n",
    "        if state in visited:\n",
    "            loop_count += 1\n",
    "            break\n",
    "        visited.add(state)\n",
    "\n",
    "        # Determine the next move based on the character's direction\n",
    "        if character == '>':\n",
    "            if j + 1 < current_path.shape[1] and current_path[i, j + 1] != '#':\n",
    "                current_spot = (i, j + 1)\n",
    "            else:\n",
    "                is_in_bounds = j + 1 < current_path.shape[1]\n",
    "                if not is_in_bounds:\n",
    "                    break\n",
    "                character = 'v'  # Turn down\n",
    "        elif character == 'v':\n",
    "            if i + 1 < current_path.shape[0] and current_path[i + 1, j] != '#':\n",
    "                current_spot = (i + 1, j)\n",
    "            else:\n",
    "                is_in_bounds = i + 1 < current_path.shape[0]\n",
    "                if not is_in_bounds:\n",
    "                    break\n",
    "                character = '<'  # Turn left\n",
    "        elif character == '<':\n",
    "            if j - 1 >= 0 and current_path[i, j - 1] != '#':\n",
    "                current_spot = (i, j - 1)\n",
    "            else:\n",
    "                is_in_bounds = j - 1 >= 0\n",
    "                if not is_in_bounds:\n",
    "                    break\n",
    "                character = '^'  # Turn up\n",
    "        elif character == '^':\n",
    "            if i - 1 >= 0 and current_path[i - 1, j] != '#':\n",
    "                current_spot = (i - 1, j)\n",
    "            else:\n",
    "                is_in_bounds = i - 1 >= 0\n",
    "                if not is_in_bounds:\n",
    "                    break\n",
    "                character = '>'  # Turn right\n",
    "\n",
    "print(\"Loop count:\", loop_count)"
   ]
  },
  {
   "cell_type": "code",
   "execution_count": 19,
   "id": "2be4c61c-8066-4d94-9243-092834db4c7a",
   "metadata": {},
   "outputs": [
    {
     "data": {
      "text/plain": [
       "(array([  1,   1,   1, ..., 128, 128, 128]),\n",
       " array([37, 38, 39, ..., 48, 49, 50]))"
      ]
     },
     "execution_count": 19,
     "metadata": {},
     "output_type": "execute_result"
    }
   ],
   "source": [
    "np.where(path == 'X')"
   ]
  },
  {
   "cell_type": "code",
   "execution_count": 20,
   "id": "15b002e1-2798-436d-8979-7f852af0deca",
   "metadata": {},
   "outputs": [
    {
     "data": {
      "text/plain": [
       "100"
      ]
     },
     "execution_count": 20,
     "metadata": {},
     "output_type": "execute_result"
    }
   ],
   "source": [
    "d6_test.size"
   ]
  }
 ],
 "metadata": {
  "kernelspec": {
   "display_name": "Python 3 (ipykernel)",
   "language": "python",
   "name": "python3"
  },
  "language_info": {
   "codemirror_mode": {
    "name": "ipython",
    "version": 3
   },
   "file_extension": ".py",
   "mimetype": "text/x-python",
   "name": "python",
   "nbconvert_exporter": "python",
   "pygments_lexer": "ipython3",
   "version": "3.13.0"
  }
 },
 "nbformat": 4,
 "nbformat_minor": 5
}
