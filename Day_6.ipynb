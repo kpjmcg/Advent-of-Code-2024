{
 "cells": [
  {
   "cell_type": "code",
   "execution_count": 1,
   "id": "80abc9c5-1f9e-413e-85c6-0b33b955ab4a",
   "metadata": {},
   "outputs": [],
   "source": [
    "import numpy as np"
   ]
  },
  {
   "cell_type": "code",
   "execution_count": 2,
   "id": "91137519-b127-4f18-a783-0d7a4bc0c2d0",
   "metadata": {},
   "outputs": [
    {
     "data": {
      "text/plain": [
       "array([['.', '.', '#', '.', '.'],\n",
       "       ['.', '.', '.', '.', '.'],\n",
       "       ['.', '.', '.', '.', '.'],\n",
       "       ['.', '.', '.', '.', '.'],\n",
       "       ['#', '.', '.', '.', '.']], dtype='<U1')"
      ]
     },
     "execution_count": 2,
     "metadata": {},
     "output_type": "execute_result"
    }
   ],
   "source": [
    "d6_input = open('d6_input.txt')\n",
    "d6_input = d6_input.readlines().copy()\n",
    "d6_input = np.array([list(line.strip()) for line in d6_input])\n",
    "d6_input[:5,:5]"
   ]
  },
  {
   "cell_type": "code",
   "execution_count": 3,
   "id": "9fb33a74-3b9d-4c9d-bb5c-11bb1ba771fd",
   "metadata": {},
   "outputs": [
    {
     "data": {
      "text/plain": [
       "(array([37]), array([65]))"
      ]
     },
     "execution_count": 3,
     "metadata": {},
     "output_type": "execute_result"
    }
   ],
   "source": [
    "hashtags = np.where(d6_input =='#')\n",
    "starting_spot = np.where(d6_input == '^')\n",
    "starting_spot"
   ]
  },
  {
   "cell_type": "code",
   "execution_count": 4,
   "id": "487089cc-9de2-4b31-bc6a-011d61bd07f7",
   "metadata": {},
   "outputs": [
    {
     "data": {
      "text/plain": [
       "True"
      ]
     },
     "execution_count": 4,
     "metadata": {},
     "output_type": "execute_result"
    }
   ],
   "source": [
    "path = d6_input.copy()\n",
    "path.shape == d6_input.shape"
   ]
  },
  {
   "cell_type": "code",
   "execution_count": 5,
   "id": "5bc8d040-450b-4922-9d11-fae92f07a135",
   "metadata": {},
   "outputs": [
    {
     "data": {
      "text/plain": [
       "np.str_('.')"
      ]
     },
     "execution_count": 5,
     "metadata": {},
     "output_type": "execute_result"
    }
   ],
   "source": [
    "d6_input[129,129]"
   ]
  },
  {
   "cell_type": "code",
   "execution_count": 6,
   "id": "ec692fcb-f91d-4320-9fd9-52cf1078f4b6",
   "metadata": {},
   "outputs": [
    {
     "data": {
      "text/plain": [
       "array([6, 4, 5])"
      ]
     },
     "execution_count": 6,
     "metadata": {},
     "output_type": "execute_result"
    }
   ],
   "source": [
    "test_array = np.array([0,4,5])\n",
    "test_array[0] = 6\n",
    "test_array"
   ]
  },
  {
   "cell_type": "code",
   "execution_count": 7,
   "id": "3eeb8a49-6c52-4fb7-99f4-99b24890dcd6",
   "metadata": {},
   "outputs": [
    {
     "data": {
      "text/plain": [
       "(array([37]), array([65]))"
      ]
     },
     "execution_count": 7,
     "metadata": {},
     "output_type": "execute_result"
    }
   ],
   "source": [
    "starting_spot"
   ]
  },
  {
   "cell_type": "code",
   "execution_count": 8,
   "id": "f4d99a8d-f895-4bf2-966c-428c8a8b0a8f",
   "metadata": {},
   "outputs": [
    {
     "ename": "IndexError",
     "evalue": "index 130 is out of bounds for axis 0 with size 130",
     "output_type": "error",
     "traceback": [
      "\u001b[1;31m---------------------------------------------------------------------------\u001b[0m",
      "\u001b[1;31mIndexError\u001b[0m                                Traceback (most recent call last)",
      "Cell \u001b[1;32mIn[8], line 18\u001b[0m\n\u001b[0;32m     16\u001b[0m         current_spot \u001b[38;5;241m=\u001b[39m (i,j\u001b[38;5;241m+\u001b[39m\u001b[38;5;241m1\u001b[39m)\n\u001b[0;32m     17\u001b[0m \u001b[38;5;28;01mif\u001b[39;00m character \u001b[38;5;241m==\u001b[39m \u001b[38;5;124m'\u001b[39m\u001b[38;5;124mv\u001b[39m\u001b[38;5;124m'\u001b[39m: \n\u001b[1;32m---> 18\u001b[0m     \u001b[38;5;28;01mif\u001b[39;00m \u001b[43md6_input\u001b[49m\u001b[43m[\u001b[49m\u001b[43mi\u001b[49m\u001b[38;5;241;43m+\u001b[39;49m\u001b[38;5;241;43m1\u001b[39;49m\u001b[43m,\u001b[49m\u001b[43mj\u001b[49m\u001b[43m]\u001b[49m \u001b[38;5;241m==\u001b[39m \u001b[38;5;124m'\u001b[39m\u001b[38;5;124m#\u001b[39m\u001b[38;5;124m'\u001b[39m:\n\u001b[0;32m     19\u001b[0m         character \u001b[38;5;241m=\u001b[39m \u001b[38;5;124m'\u001b[39m\u001b[38;5;124m<\u001b[39m\u001b[38;5;124m'\u001b[39m\n\u001b[0;32m     20\u001b[0m         \u001b[38;5;28;01mcontinue\u001b[39;00m\n",
      "\u001b[1;31mIndexError\u001b[0m: index 130 is out of bounds for axis 0 with size 130"
     ]
    }
   ],
   "source": [
    "path[starting_spot]\n",
    "current_spot = starting_spot\n",
    "is_in_bounds =  0 <= current_spot[0] < d6_input.shape[0] and 0 <= current_spot[1] < d6_input.shape[1]\n",
    "character = 'v'\n",
    "steps = 0\n",
    "while is_in_bounds:\n",
    "    i , j = current_spot\n",
    "    if character == '>': \n",
    "        \n",
    "        if d6_input[i,j+1] == '#':\n",
    "            character = 'v'\n",
    "            continue\n",
    "        else:\n",
    "            path[current_spot] = '>'\n",
    "            steps +=1\n",
    "            current_spot = (i,j+1)\n",
    "    if character == 'v': \n",
    "        if d6_input[i+1,j] == '#':\n",
    "            character = '<'\n",
    "            continue\n",
    "        else:\n",
    "            path[current_spot] = 'v'\n",
    "            steps += 1\n",
    "            current_spot = (i+1,j)    \n",
    "    if character =='<': \n",
    "        if d6_input[i,j-1] =='#':\n",
    "            character = '^'\n",
    "            continue\n",
    "        else:\n",
    "            path[current_spot] = '<'\n",
    "            steps += 1\n",
    "            current_spot = (i,j-1)\n",
    "    if character == '^': \n",
    "        if d6_input[i-1,j] == '#':\n",
    "            character = '>'\n",
    "            continue\n",
    "        else:\n",
    "            path[current_spot] = '^'\n",
    "            steps +=1\n",
    "            current_spot = (i-1,j)\n",
    "is_in_bounds"
   ]
  },
  {
   "cell_type": "code",
   "execution_count": 10,
   "id": "e0e8ae08-5a8b-4a7f-bae0-79316c0396e3",
   "metadata": {},
   "outputs": [
    {
     "data": {
      "text/plain": [
       "(array([129]), array([29]))"
      ]
     },
     "execution_count": 10,
     "metadata": {},
     "output_type": "execute_result"
    }
   ],
   "source": [
    "current_spot"
   ]
  },
  {
   "cell_type": "code",
   "execution_count": 15,
   "id": "c064630f-8a8f-4b8f-acff-a80f4daaba1d",
   "metadata": {},
   "outputs": [
    {
     "data": {
      "text/plain": [
       "array(['>'], dtype='<U1')"
      ]
     },
     "execution_count": 15,
     "metadata": {},
     "output_type": "execute_result"
    }
   ],
   "source": [
    "path[starting_spot]"
   ]
  },
  {
   "cell_type": "code",
   "execution_count": 13,
   "id": "e52a43d5-4d0d-4770-9e2c-26861b2b4578",
   "metadata": {},
   "outputs": [],
   "source": [
    "np.savetxt('d6_path.txt',path,fmt='%s')"
   ]
  },
  {
   "cell_type": "code",
   "execution_count": 14,
   "id": "f91145c1-fcf0-4564-9500-211e6baa7dfe",
   "metadata": {},
   "outputs": [
    {
     "data": {
      "text/plain": [
       "4620"
      ]
     },
     "execution_count": 14,
     "metadata": {},
     "output_type": "execute_result"
    }
   ],
   "source": [
    "total_count = np.count_nonzero(np.isin(path, ['v', '<', '>', '^'])) + 1 \n",
    "total_count"
   ]
  },
  {
   "cell_type": "code",
   "execution_count": 16,
   "id": "4f75a811-3387-4d78-a12b-5573441422d1",
   "metadata": {},
   "outputs": [
    {
     "ename": "IndexError",
     "evalue": "index 130 is out of bounds for axis 0 with size 130",
     "output_type": "error",
     "traceback": [
      "\u001b[1;31m---------------------------------------------------------------------------\u001b[0m",
      "\u001b[1;31mIndexError\u001b[0m                                Traceback (most recent call last)",
      "Cell \u001b[1;32mIn[16], line 18\u001b[0m\n\u001b[0;32m     16\u001b[0m         current_spot \u001b[38;5;241m=\u001b[39m (i,j\u001b[38;5;241m+\u001b[39m\u001b[38;5;241m1\u001b[39m)\n\u001b[0;32m     17\u001b[0m \u001b[38;5;28;01mif\u001b[39;00m character \u001b[38;5;241m==\u001b[39m \u001b[38;5;124m'\u001b[39m\u001b[38;5;124mv\u001b[39m\u001b[38;5;124m'\u001b[39m: \n\u001b[1;32m---> 18\u001b[0m     \u001b[38;5;28;01mif\u001b[39;00m \u001b[43md6_input\u001b[49m\u001b[43m[\u001b[49m\u001b[43mi\u001b[49m\u001b[38;5;241;43m+\u001b[39;49m\u001b[38;5;241;43m1\u001b[39;49m\u001b[43m,\u001b[49m\u001b[43mj\u001b[49m\u001b[43m]\u001b[49m \u001b[38;5;241m==\u001b[39m \u001b[38;5;124m'\u001b[39m\u001b[38;5;124m#\u001b[39m\u001b[38;5;124m'\u001b[39m:\n\u001b[0;32m     19\u001b[0m         character \u001b[38;5;241m=\u001b[39m \u001b[38;5;124m'\u001b[39m\u001b[38;5;124m<\u001b[39m\u001b[38;5;124m'\u001b[39m\n\u001b[0;32m     20\u001b[0m         \u001b[38;5;28;01mcontinue\u001b[39;00m\n",
      "\u001b[1;31mIndexError\u001b[0m: index 130 is out of bounds for axis 0 with size 130"
     ]
    }
   ],
   "source": [
    "path[starting_spot]\n",
    "current_spot = starting_spot\n",
    "is_in_bounds =  0 <= current_spot[0] < d6_input.shape[0] and 0 <= current_spot[1] < d6_input.shape[1]\n",
    "character = 'v'\n",
    "steps = 0\n",
    "while is_in_bounds:\n",
    "    i , j = current_spot\n",
    "    if character == '>': \n",
    "        \n",
    "        if d6_input[i,j+1] == '#':\n",
    "            character = 'v'\n",
    "            continue\n",
    "        else:\n",
    "            path[current_spot] = '*'\n",
    "            steps +=1\n",
    "            current_spot = (i,j+1)\n",
    "    if character == 'v': \n",
    "        if d6_input[i+1,j] == '#':\n",
    "            character = '<'\n",
    "            continue\n",
    "        else:\n",
    "            path[current_spot] = '*'\n",
    "            steps += 1\n",
    "            current_spot = (i+1,j)    \n",
    "    if character =='<': \n",
    "        if d6_input[i,j-1] =='#':\n",
    "            character = '^'\n",
    "            continue\n",
    "        else:\n",
    "            path[current_spot] = '*'\n",
    "            steps += 1\n",
    "            current_spot = (i,j-1)\n",
    "    if character == '^': \n",
    "        if d6_input[i-1,j] == '#':\n",
    "            character = '>'\n",
    "            continue\n",
    "        else:\n",
    "            path[current_spot] = '*'\n",
    "            steps +=1\n",
    "            current_spot = (i-1,j)\n",
    "is_in_bounds"
   ]
  },
  {
   "cell_type": "code",
   "execution_count": 17,
   "id": "ffb6eff9-5e61-486f-99b3-da04b1312510",
   "metadata": {},
   "outputs": [
    {
     "data": {
      "text/plain": [
       "np.int64(4619)"
      ]
     },
     "execution_count": 17,
     "metadata": {},
     "output_type": "execute_result"
    }
   ],
   "source": [
    "np.sum(path == '*')"
   ]
  },
  {
   "cell_type": "code",
   "execution_count": null,
   "id": "312c72ee-c345-4238-a9cf-aab91d321531",
   "metadata": {},
   "outputs": [],
   "source": []
  }
 ],
 "metadata": {
  "kernelspec": {
   "display_name": "Python 3 (ipykernel)",
   "language": "python",
   "name": "python3"
  },
  "language_info": {
   "codemirror_mode": {
    "name": "ipython",
    "version": 3
   },
   "file_extension": ".py",
   "mimetype": "text/x-python",
   "name": "python",
   "nbconvert_exporter": "python",
   "pygments_lexer": "ipython3",
   "version": "3.13.0"
  }
 },
 "nbformat": 4,
 "nbformat_minor": 5
}
