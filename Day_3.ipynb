{
 "cells": [
  {
   "cell_type": "code",
   "execution_count": 1,
   "id": "f8ed0efd-5992-45ab-b2cb-22fd90df286b",
   "metadata": {},
   "outputs": [],
   "source": [
    "import re\n",
    "import numpy as np"
   ]
  },
  {
   "cell_type": "code",
   "execution_count": 2,
   "id": "cf26050c-217b-4a91-bac0-b5be0a38c5af",
   "metadata": {},
   "outputs": [],
   "source": [
    "d3_input = open('d3_input.txt')\n",
    "d3_input = d3_input.readlines().copy()"
   ]
  },
  {
   "cell_type": "markdown",
   "id": "fd559cf9-c597-450b-916b-9bbd9410b744",
   "metadata": {},
   "source": [
    "# Part 1 "
   ]
  },
  {
   "cell_type": "code",
   "execution_count": 3,
   "id": "31ee8d09-dc62-4a01-ae01-6a87ce171440",
   "metadata": {},
   "outputs": [
    {
     "name": "stderr",
     "output_type": "stream",
     "text": [
      "<>:1: SyntaxWarning: invalid escape sequence '\\('\n",
      "<>:1: SyntaxWarning: invalid escape sequence '\\('\n",
      "C:\\Users\\Kieran McGee\\AppData\\Local\\Temp\\ipykernel_19788\\1537482527.py:1: SyntaxWarning: invalid escape sequence '\\('\n",
      "  expression = 'mul\\([0-9]{1,3},[0-9]{1,3}\\)'\n"
     ]
    }
   ],
   "source": [
    "expression = 'mul\\([0-9]{1,3},[0-9]{1,3}\\)'"
   ]
  },
  {
   "cell_type": "code",
   "execution_count": 4,
   "id": "1d718477-9c05-4480-8fdb-21bb7c09f348",
   "metadata": {},
   "outputs": [
    {
     "data": {
      "text/plain": [
       "742"
      ]
     },
     "execution_count": 4,
     "metadata": {},
     "output_type": "execute_result"
    }
   ],
   "source": [
    "input_split = [re.findall(expression,line) for line in d3_input]\n",
    "input_split = [item for line in input_split for item in line]\n",
    "len(input_split)"
   ]
  },
  {
   "cell_type": "code",
   "execution_count": 5,
   "id": "79ceeb7e-5401-4cfd-9eb6-66e805d8ed76",
   "metadata": {},
   "outputs": [
    {
     "data": {
      "text/plain": [
       "[['437', '864'],\n",
       " ['880', '907'],\n",
       " ['215', '270'],\n",
       " ['737', '510'],\n",
       " ['634', '344']]"
      ]
     },
     "execution_count": 5,
     "metadata": {},
     "output_type": "execute_result"
    }
   ],
   "source": [
    "expression_2 = '[0-9]{1,3}'\n",
    "final_split = [re.findall(expression_2,split) for split in input_split]\n",
    "final_split[:5]"
   ]
  },
  {
   "cell_type": "code",
   "execution_count": 6,
   "id": "82d1b423-f705-4274-8b1c-f8a2bc04b528",
   "metadata": {},
   "outputs": [
    {
     "data": {
      "text/plain": [
       "(742, 2)"
      ]
     },
     "execution_count": 6,
     "metadata": {},
     "output_type": "execute_result"
    }
   ],
   "source": [
    "split_array = np.array(final_split,dtype=int)\n",
    "split_array.shape"
   ]
  },
  {
   "cell_type": "code",
   "execution_count": 7,
   "id": "35978cf8-527f-455d-a30c-9520bc3083a0",
   "metadata": {},
   "outputs": [
    {
     "data": {
      "text/plain": [
       "np.int64(188192787)"
      ]
     },
     "execution_count": 7,
     "metadata": {},
     "output_type": "execute_result"
    }
   ],
   "source": [
    "answer = np.sum(split_array[:,0] * split_array[:,1])\n",
    "answer"
   ]
  },
  {
   "cell_type": "markdown",
   "id": "2417792d-9b57-41c9-b552-d1c25b010053",
   "metadata": {},
   "source": [
    "# Part 2 "
   ]
  },
  {
   "cell_type": "code",
   "execution_count": 8,
   "id": "66e58d34-d475-4b34-b04a-61d1df798759",
   "metadata": {},
   "outputs": [
    {
     "data": {
      "text/plain": [
       "\");>]mul(437,864)^mul(880,907)}<how(){+[!' where()m\""
      ]
     },
     "execution_count": 8,
     "metadata": {},
     "output_type": "execute_result"
    }
   ],
   "source": [
    "clean_input = ''.join(d3_input)\n",
    "clean_input[:50]"
   ]
  },
  {
   "cell_type": "markdown",
   "id": "9ba92916-0df0-4ca1-a41e-0d6dde339377",
   "metadata": {},
   "source": [
    "do() or don't() instructions"
   ]
  },
  {
   "cell_type": "code",
   "execution_count": 9,
   "id": "fe745cb9-001d-4052-8651-9227fb4e8e3a",
   "metadata": {},
   "outputs": [
    {
     "name": "stderr",
     "output_type": "stream",
     "text": [
      "<>:2: SyntaxWarning: invalid escape sequence '\\('\n",
      "<>:2: SyntaxWarning: invalid escape sequence '\\('\n",
      "C:\\Users\\Kieran McGee\\AppData\\Local\\Temp\\ipykernel_19788\\3317422538.py:2: SyntaxWarning: invalid escape sequence '\\('\n",
      "  dont = \"don't\\(\\)\"\n"
     ]
    }
   ],
   "source": [
    "# Split by don'ts\n",
    "dont = \"don't\\(\\)\"\n",
    "dont_split = re.split(dont,clean_input)\n",
    "first_split = dont_split[0]\n",
    "true_dont_split  = dont_split[1:]"
   ]
  },
  {
   "cell_type": "code",
   "execution_count": 10,
   "id": "a7b812e1-13d3-4a09-a23d-ab4065f92262",
   "metadata": {},
   "outputs": [
    {
     "name": "stderr",
     "output_type": "stream",
     "text": [
      "<>:2: SyntaxWarning: invalid escape sequence '\\('\n",
      "<>:2: SyntaxWarning: invalid escape sequence '\\('\n",
      "C:\\Users\\Kieran McGee\\AppData\\Local\\Temp\\ipykernel_19788\\184476141.py:2: SyntaxWarning: invalid escape sequence '\\('\n",
      "  do = 'do\\(\\)'\n"
     ]
    }
   ],
   "source": [
    "#Split each don't section by do's! \n",
    "do = 'do\\(\\)'\n",
    "do_split = [re.split(do,split) for split in true_dont_split]"
   ]
  },
  {
   "cell_type": "code",
   "execution_count": 11,
   "id": "79c1e0e0-9512-4a54-9391-c8e1c8d70f67",
   "metadata": {},
   "outputs": [
    {
     "data": {
      "text/plain": [
       "34"
      ]
     },
     "execution_count": 11,
     "metadata": {},
     "output_type": "execute_result"
    }
   ],
   "source": [
    "true_do_split = [split[1:] for split in do_split] # Grab everything but the first entry in each do_split, the first entry is the stuff before the first do\n",
    "true_do_split = [item for line in true_do_split for item in line] #Flatten list into entries of do splits\n",
    "true_do_split.append(first_split) #Append the first split to complete the correct lines \n",
    "len(true_do_split)"
   ]
  },
  {
   "cell_type": "code",
   "execution_count": 12,
   "id": "d280ca28-94ed-4d73-bcdb-ace0fcf627ee",
   "metadata": {},
   "outputs": [
    {
     "data": {
      "text/plain": [
       "\"#mul(935,409)mul(356,457)]#mul(445,30)?&^'where()&%<&mul(568,491)when()/^@who()when()&~#)mul(327,654):from(){+?#what()<?;\""
      ]
     },
     "execution_count": 12,
     "metadata": {},
     "output_type": "execute_result"
    }
   ],
   "source": [
    "true_do_split[1]"
   ]
  },
  {
   "cell_type": "code",
   "execution_count": 13,
   "id": "eed8b9af-c3cf-47fc-b587-462ac868ac80",
   "metadata": {},
   "outputs": [
    {
     "name": "stderr",
     "output_type": "stream",
     "text": [
      "<>:1: SyntaxWarning: invalid escape sequence '\\('\n",
      "<>:1: SyntaxWarning: invalid escape sequence '\\('\n",
      "C:\\Users\\Kieran McGee\\AppData\\Local\\Temp\\ipykernel_19788\\3846342494.py:1: SyntaxWarning: invalid escape sequence '\\('\n",
      "  expression = 'mul\\([0-9]{1,3},[0-9]{1,3}\\)'\n"
     ]
    },
    {
     "data": {
      "text/plain": [
       "['mul(448,254)']"
      ]
     },
     "execution_count": 13,
     "metadata": {},
     "output_type": "execute_result"
    }
   ],
   "source": [
    "expression = 'mul\\([0-9]{1,3},[0-9]{1,3}\\)'\n",
    "true_do_split = [re.findall(expression,line) for line in true_do_split]\n",
    "true_do_split[0]"
   ]
  },
  {
   "cell_type": "code",
   "execution_count": 14,
   "id": "a813b74d-4291-40bb-8bf4-08b483f8ac9c",
   "metadata": {},
   "outputs": [
    {
     "data": {
      "text/plain": [
       "[['mul(448,254)'],\n",
       " ['mul(935,409)',\n",
       "  'mul(356,457)',\n",
       "  'mul(445,30)',\n",
       "  'mul(568,491)',\n",
       "  'mul(327,654)'],\n",
       " ['mul(641,212)'],\n",
       " ['mul(926,267)', 'mul(750,244)'],\n",
       " ['mul(523,581)',\n",
       "  'mul(94,990)',\n",
       "  'mul(174,631)',\n",
       "  'mul(57,234)',\n",
       "  'mul(943,865)',\n",
       "  'mul(633,471)',\n",
       "  'mul(232,415)',\n",
       "  'mul(126,82)',\n",
       "  'mul(687,55)',\n",
       "  'mul(674,305)',\n",
       "  'mul(261,413)']]"
      ]
     },
     "execution_count": 14,
     "metadata": {},
     "output_type": "execute_result"
    }
   ],
   "source": [
    "true_do_split[:5]"
   ]
  },
  {
   "cell_type": "code",
   "execution_count": 15,
   "id": "e64371e0-e9a1-420b-ae90-4bbb3465c543",
   "metadata": {},
   "outputs": [
    {
     "data": {
      "text/plain": [
       "['mul(448,254)', 'mul(935,409)', 'mul(356,457)', 'mul(445,30)', 'mul(568,491)']"
      ]
     },
     "execution_count": 15,
     "metadata": {},
     "output_type": "execute_result"
    }
   ],
   "source": [
    "input_do_split = [item for line in true_do_split for item in line]\n",
    "input_do_split[:5]"
   ]
  },
  {
   "cell_type": "code",
   "execution_count": 16,
   "id": "b66df087-ae5d-4eb0-ab8a-729bd7f2f4b7",
   "metadata": {},
   "outputs": [
    {
     "data": {
      "text/plain": [
       "[['448', '254'], ['935', '409'], ['356', '457'], ['445', '30'], ['568', '491']]"
      ]
     },
     "execution_count": 16,
     "metadata": {},
     "output_type": "execute_result"
    }
   ],
   "source": [
    "expression_2 = '[0-9]{1,3}'\n",
    "final_do_split = [re.findall(expression_2,split) for split in input_do_split]\n",
    "final_do_split[:5]"
   ]
  },
  {
   "cell_type": "code",
   "execution_count": 17,
   "id": "7db2696d-4c93-4a1d-834d-01b05238bea2",
   "metadata": {},
   "outputs": [
    {
     "data": {
      "text/plain": [
       "(463, 2)"
      ]
     },
     "execution_count": 17,
     "metadata": {},
     "output_type": "execute_result"
    }
   ],
   "source": [
    "do_split_array = np.array(final_do_split,dtype=int)\n",
    "do_split_array.shape"
   ]
  },
  {
   "cell_type": "code",
   "execution_count": 18,
   "id": "4ae73043-9e70-4387-ab96-f764f6cea32d",
   "metadata": {},
   "outputs": [
    {
     "data": {
      "text/plain": [
       "np.int64(113965544)"
      ]
     },
     "execution_count": 18,
     "metadata": {},
     "output_type": "execute_result"
    }
   ],
   "source": [
    "do_answer = np.sum(do_split_array[:,0]*do_split_array[:,1])\n",
    "do_answer"
   ]
  }
 ],
 "metadata": {
  "kernelspec": {
   "display_name": "Python 3 (ipykernel)",
   "language": "python",
   "name": "python3"
  },
  "language_info": {
   "codemirror_mode": {
    "name": "ipython",
    "version": 3
   },
   "file_extension": ".py",
   "mimetype": "text/x-python",
   "name": "python",
   "nbconvert_exporter": "python",
   "pygments_lexer": "ipython3",
   "version": "3.13.0"
  }
 },
 "nbformat": 4,
 "nbformat_minor": 5
}
