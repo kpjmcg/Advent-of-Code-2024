{
 "cells": [
  {
   "cell_type": "code",
   "execution_count": 12,
   "id": "1271f7af-a228-418f-bc27-c856c79f0805",
   "metadata": {},
   "outputs": [],
   "source": [
    "import numpy as np"
   ]
  },
  {
   "cell_type": "markdown",
   "id": "6ee8e0ff-8402-48b2-83b1-b4698f0ac13c",
   "metadata": {},
   "source": [
    "# Part 1 \n"
   ]
  },
  {
   "cell_type": "code",
   "execution_count": 11,
   "id": "19505000-9b60-42af-8127-56c34e670575",
   "metadata": {},
   "outputs": [
    {
     "name": "stdout",
     "output_type": "stream",
     "text": [
      "2599\n"
     ]
    }
   ],
   "source": [
    "# Read input file\n",
    "with open('d4_input.txt', 'r') as file:\n",
    "    lines = [list(line.strip()) for line in file if line.strip()]\n",
    "\n",
    "found = 0\n",
    "\n",
    "# Iterate over the grid\n",
    "for y in range(len(lines)):\n",
    "    for x in range(len(lines[y])):\n",
    "        if lines[y][x] != 'X':\n",
    "            continue\n",
    "\n",
    "        # Check if the word 'XMAS' is in any direction\n",
    "        if y > 2:\n",
    "            if x > 2 and lines[y - 1][x - 1] == 'M' and lines[y - 2][x - 2] == 'A' and lines[y - 3][x - 3] == 'S':\n",
    "                found += 1\n",
    "            if lines[y - 1][x] == 'M' and lines[y - 2][x] == 'A' and lines[y - 3][x] == 'S':\n",
    "                found += 1\n",
    "            if x < len(lines[y]) - 3 and lines[y - 1][x + 1] == 'M' and lines[y - 2][x + 2] == 'A' and lines[y - 3][x + 3] == 'S':\n",
    "                found += 1\n",
    "\n",
    "        if x > 2 and lines[y][x - 1] == 'M' and lines[y][x - 2] == 'A' and lines[y][x - 3] == 'S':\n",
    "            found += 1\n",
    "        if x < len(lines[y]) - 3 and lines[y][x + 1] == 'M' and lines[y][x + 2] == 'A' and lines[y][x + 3] == 'S':\n",
    "            found += 1\n",
    "\n",
    "        if y < len(lines) - 3:\n",
    "            if x > 2 and lines[y + 1][x - 1] == 'M' and lines[y + 2][x - 2] == 'A' and lines[y + 3][x - 3] == 'S':\n",
    "                found += 1\n",
    "            if lines[y + 1][x] == 'M' and lines[y + 2][x] == 'A' and lines[y + 3][x] == 'S':\n",
    "                found += 1\n",
    "            if x < len(lines[y]) - 3 and lines[y + 1][x + 1] == 'M' and lines[y + 2][x + 2] == 'A' and lines[y + 3][x + 3] == 'S':\n",
    "                found += 1\n",
    "\n",
    "print(found)"
   ]
  },
  {
   "cell_type": "markdown",
   "id": "2fb11dbd-c73d-444a-8a61-771eb6bc80e0",
   "metadata": {},
   "source": [
    "# Part 2 "
   ]
  },
  {
   "cell_type": "code",
   "execution_count": 25,
   "id": "d9512c9c-650a-45a9-b915-84f9bb28308d",
   "metadata": {},
   "outputs": [
    {
     "data": {
      "text/plain": [
       "1948"
      ]
     },
     "execution_count": 25,
     "metadata": {},
     "output_type": "execute_result"
    }
   ],
   "source": [
    "counter_2 = 0\n",
    "for i in range(1,len(lines)-1):\n",
    "    for j in range(1,len(lines[i])-1):\n",
    "        entry = lines[i][j]\n",
    "        tr = lines[i-1][j+1]\n",
    "        br = lines[i+1][j+1]\n",
    "        tl = lines[i-1][j-1]\n",
    "        bl = lines[i+1][j-1]\n",
    "        if lines[i][j] == 'A':\n",
    "            if (tl == 'M' and br == 'S') or (tl =='S' and br == 'M'):\n",
    "                if (tr =='M' and bl =='S') or (tr == 'S' and bl == 'M'):\n",
    "                    counter_2 +=1\n",
    "counter_2"
   ]
  },
  {
   "cell_type": "code",
   "execution_count": null,
   "id": "6bdc0d7d-def1-40cc-ae24-831c40e3c00d",
   "metadata": {},
   "outputs": [],
   "source": []
  }
 ],
 "metadata": {
  "kernelspec": {
   "display_name": "Python 3 (ipykernel)",
   "language": "python",
   "name": "python3"
  },
  "language_info": {
   "codemirror_mode": {
    "name": "ipython",
    "version": 3
   },
   "file_extension": ".py",
   "mimetype": "text/x-python",
   "name": "python",
   "nbconvert_exporter": "python",
   "pygments_lexer": "ipython3",
   "version": "3.13.0"
  }
 },
 "nbformat": 4,
 "nbformat_minor": 5
}
