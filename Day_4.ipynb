{
 "cells": [
  {
   "cell_type": "code",
   "execution_count": 1,
   "id": "1271f7af-a228-418f-bc27-c856c79f0805",
   "metadata": {},
   "outputs": [],
   "source": [
    "import numpy as np"
   ]
  },
  {
   "cell_type": "code",
   "execution_count": 2,
   "id": "fc44e86d-17df-43a5-865c-b046c1e685b2",
   "metadata": {},
   "outputs": [
    {
     "data": {
      "text/plain": [
       "array([['M', 'M', 'M', 'S', 'X', 'X', 'M', 'A', 'S', 'M'],\n",
       "       ['M', 'S', 'A', 'M', 'X', 'M', 'S', 'M', 'S', 'A'],\n",
       "       ['A', 'M', 'X', 'S', 'X', 'M', 'A', 'A', 'M', 'M'],\n",
       "       ['M', 'S', 'A', 'M', 'A', 'S', 'M', 'S', 'M', 'X'],\n",
       "       ['X', 'M', 'A', 'S', 'A', 'M', 'X', 'A', 'M', 'M'],\n",
       "       ['X', 'X', 'A', 'M', 'M', 'X', 'X', 'A', 'M', 'A'],\n",
       "       ['S', 'M', 'S', 'M', 'S', 'A', 'S', 'X', 'S', 'S'],\n",
       "       ['S', 'A', 'X', 'A', 'M', 'A', 'S', 'A', 'A', 'A'],\n",
       "       ['M', 'A', 'M', 'M', 'M', 'X', 'M', 'M', 'M', 'M'],\n",
       "       ['M', 'X', 'M', 'X', 'A', 'X', 'M', 'A', 'S', 'X']], dtype='<U1')"
      ]
     },
     "execution_count": 2,
     "metadata": {},
     "output_type": "execute_result"
    }
   ],
   "source": [
    "d4_input = np.genfromtxt('d4_test.txt',delimiter='',dtype=str)\n",
    "d4_lines = d4_input.copy()\n",
    "d4_array = np.array([list(str(line)) for line in d4_input])\n",
    "d4_array =d4_array[:,:-2]\n",
    "d4_array"
   ]
  },
  {
   "cell_type": "code",
   "execution_count": 3,
   "id": "8364f5a9-fc76-4a22-93e5-16edcd1ef07a",
   "metadata": {},
   "outputs": [],
   "source": [
    "def is_xmas(array,row_index,column_index):\n",
    "    try:\n",
    "        if array[row_index,column_index] == 'X' and array[row_index,column_index+1] == 'M' and array[row_index,column_index+2] == 'A' and array[row_index,column_index+3] == 'S':\n",
    "            return True\n",
    "        else:\n",
    "            return False\n",
    "    except:\n",
    "        return False\n",
    "def is_xmas_diagonal(array,row_index,column_index): #Helper that finds diagonal down and to the right\n",
    "    try:\n",
    "        if array[row_index,column_index] == 'X' and array[row_index+1,column_index+1]== 'M' and array[row_index+2,column_index+2]== 'A' and array[row_index+3,column_index+3]=='S':\n",
    "            return True\n",
    "        else:\n",
    "            return False\n",
    "    except:\n",
    "        return False"
   ]
  },
  {
   "cell_type": "code",
   "execution_count": 4,
   "id": "4662752d-8cf3-42c2-9a27-9c5627624339",
   "metadata": {},
   "outputs": [
    {
     "name": "stdout",
     "output_type": "stream",
     "text": [
      "3\n",
      "1\n"
     ]
    }
   ],
   "source": [
    "#XMAS across\n",
    "across = 0\n",
    "diagonal_standard_down = 0\n",
    "\n",
    "for row_index in range(d4_array.shape[0]):\n",
    "    for column_index in range(d4_array.shape[1]):\n",
    "        if is_xmas(d4_array,row_index,column_index):\n",
    "            #print('Acrow_index,column_index)\n",
    "            across += 1\n",
    "        elif is_xmas_diagonal(d4_array,row_index,column_index):\n",
    "            diagonal_standard_down += 1\n",
    "            \n",
    "        \n",
    "print(across)\n",
    "print(diagonal_standard_down) #Down and to the right"
   ]
  },
  {
   "cell_type": "code",
   "execution_count": 5,
   "id": "38797c49-c772-4e06-91b7-157b1add87cf",
   "metadata": {},
   "outputs": [
    {
     "name": "stdout",
     "output_type": "stream",
     "text": [
      "2\n",
      "1\n"
     ]
    }
   ],
   "source": [
    "#XMAS backward\n",
    "backward = 0\n",
    "diagonal_reversed_down = 0\n",
    "\n",
    "d4_array_reverse = np.flip(d4_array,axis=1)\n",
    "for row_index in range(d4_array_reverse.shape[0]):\n",
    "    for column_index in range(d4_array_reverse.shape[1]):\n",
    "        \n",
    "        if is_xmas(d4_array_reverse,row_index,column_index):\n",
    "            #('backward', row_index,column_index)\n",
    "            backward += 1\n",
    "            \n",
    "        elif is_xmas_diagonal(d4_array_reverse,row_index,column_index):\n",
    "            diagonal_reversed_down += 1\n",
    "            \n",
    "print(backward)\n",
    "print(diagonal_reversed_down) # Down and to the left "
   ]
  },
  {
   "cell_type": "code",
   "execution_count": 6,
   "id": "3460f7d8-a6fb-4951-8da0-580a037977e8",
   "metadata": {},
   "outputs": [
    {
     "data": {
      "text/plain": [
       "(10, 10)"
      ]
     },
     "execution_count": 6,
     "metadata": {},
     "output_type": "execute_result"
    }
   ],
   "source": [
    "d4_array_reverse.shape"
   ]
  },
  {
   "cell_type": "code",
   "execution_count": 7,
   "id": "0c7833eb-7134-4248-b72f-d9d33baa3ae7",
   "metadata": {},
   "outputs": [
    {
     "name": "stdout",
     "output_type": "stream",
     "text": [
      "1\n",
      "1\n"
     ]
    }
   ],
   "source": [
    "#XMAS down\n",
    "#Same as XMAS across but using transposed array \n",
    "d4_arrayT = d4_array.T\n",
    "down = 0\n",
    "diagonal_standard_up = 0\n",
    "\n",
    "for row_index in range(d4_arrayT.shape[0]):\n",
    "    for column_index in range(d4_arrayT.shape[1]):\n",
    "        \n",
    "        if is_xmas(d4_arrayT,row_index,column_index):\n",
    "            down += 1\n",
    "            \n",
    "        elif is_xmas_diagonal(d4_arrayT,row_index,column_index):\n",
    "            diagonal_standard_up += 1\n",
    "        \n",
    "print(down)\n",
    "print(diagonal_standard_up) # UP and to the right "
   ]
  },
  {
   "cell_type": "code",
   "execution_count": 8,
   "id": "7962d480-3c8c-47f7-891a-62e3b72ca2dd",
   "metadata": {},
   "outputs": [
    {
     "name": "stdout",
     "output_type": "stream",
     "text": [
      "2\n",
      "4\n"
     ]
    }
   ],
   "source": [
    "#XMAS  up\n",
    "d4_arrayT_reversed = np.flip(d4_arrayT,axis=1)\n",
    "up = 0\n",
    "diagonal_reversed_up = 0\n",
    "\n",
    "for row_index in range(d4_arrayT_reversed.shape[0]):\n",
    "    for column_index in range(d4_arrayT_reversed.shape[1]):\n",
    "        if is_xmas(d4_arrayT_reversed,row_index,column_index):\n",
    "            up +=1\n",
    "        elif is_xmas_diagonal(d4_arrayT_reversed,row_index,column_index):\n",
    "            diagonal_reversed_up += 1\n",
    "print(up)\n",
    "print(diagonal_reversed_up)"
   ]
  },
  {
   "cell_type": "code",
   "execution_count": 9,
   "id": "38c558b5-d989-42ed-b388-3acdddb456dd",
   "metadata": {},
   "outputs": [
    {
     "data": {
      "text/plain": [
       "15"
      ]
     },
     "execution_count": 9,
     "metadata": {},
     "output_type": "execute_result"
    }
   ],
   "source": [
    "\n",
    "total_xmas = across + backward + down + up + diagonal_standard_down +diagonal_standard_up + diagonal_reversed_down + diagonal_reversed_up\n",
    "total_xmas\n",
    "# too low "
   ]
  },
  {
   "cell_type": "code",
   "execution_count": 10,
   "id": "a8e0d40b-fa44-401d-9387-5da49a207dd1",
   "metadata": {},
   "outputs": [],
   "source": [
    "def is_xmas(array, row_index, column_index):\n",
    "    # Check if within bounds for horizontal \"XMAS\"\n",
    "    if column_index + 3 < array.shape[1]:\n",
    "        if (array[row_index, column_index] == 'X' and\n",
    "            array[row_index, column_index+1] == 'M' and\n",
    "            array[row_index, column_index+2] == 'A' and\n",
    "            array[row_index, column_index+3] == 'S'):\n",
    "            return True\n",
    "    return False\n",
    "\n",
    "def is_xmas_diagonal(array, row_index, column_index):\n",
    "    # Check if within bounds for diagonal down-right \"XMAS\"\n",
    "    if row_index + 3 < array.shape[0] and column_index + 3 < array.shape[1]:\n",
    "        if (array[row_index, column_index] == 'X' and\n",
    "            array[row_index+1, column_index+1] == 'M' and\n",
    "            array[row_index+2, column_index+2] == 'A' and\n",
    "            array[row_index+3, column_index+3] == 'S'):\n",
    "            return True\n",
    "    return False\n",
    "\n",
    "def is_samx(array, row_index, column_index):\n",
    "    # Check for \"SAMX\" horizontally right-to-left\n",
    "    if column_index - 3 >= 0:\n",
    "        if (array[row_index, column_index] == 'S' and\n",
    "            array[row_index, column_index-1] == 'A' and\n",
    "            array[row_index, column_index-2] == 'M' and\n",
    "            array[row_index, column_index-3] == 'X'):\n",
    "            return True\n",
    "    return False\n",
    "\n",
    "def is_samx_diagonal(array, row_index, column_index):\n",
    "    # Check for diagonal up-left \"SAMX\"\n",
    "    if row_index - 3 >= 0 and column_index - 3 >= 0:\n",
    "        if (array[row_index, column_index] == 'S' and\n",
    "            array[row_index-1, column_index-1] == 'A' and\n",
    "            array[row_index-2, column_index-2] == 'M' and\n",
    "            array[row_index-3, column_index-3] == 'X'):\n",
    "            return True\n",
    "    return False"
   ]
  },
  {
   "cell_type": "code",
   "execution_count": 11,
   "id": "7c1411f1-9b06-4ed0-8760-06d6608e5803",
   "metadata": {},
   "outputs": [
    {
     "name": "stdout",
     "output_type": "stream",
     "text": [
      "lr 3\n",
      "rl 3\n",
      "up 1\n",
      "dn 1\n",
      "dgr 1\n",
      "dgl 1\n",
      "dgul 1\n",
      "dgur 1\n"
     ]
    }
   ],
   "source": [
    "lr = 0\n",
    "rl = 0\n",
    "up = 0\n",
    "dn = 0\n",
    "dgr = 0\n",
    "dgl = 0\n",
    "dgur = 0\n",
    "dgul = 0\n",
    "for row_index in range(d4_array.shape[0]):\n",
    "    for column_index in range(d4_array.shape[1]):\n",
    "        if is_xmas(d4_array,row_index,column_index):\n",
    "            lr +=1\n",
    "        if is_samx(d4_array,row_index,column_index):\n",
    "            rl +=1\n",
    "        if is_xmas_diagonal(d4_array,row_index,column_index):\n",
    "            dgr +=1\n",
    "        if is_samx_diagonal(d4_array,row_index,column_index):\n",
    "            dgul +=1\n",
    "for row_index in range(d4_array.T.shape[0]):\n",
    "    for column_index in range(d4_array.T.shape[1]):\n",
    "        if is_xmas(d4_array.T,row_index,column_index):\n",
    "            dn +=1\n",
    "        if is_samx(d4_array.T,row_index,column_index):\n",
    "            up +=1\n",
    "        if is_xmas_diagonal(d4_array.T,row_index,column_index):\n",
    "            dgl +=1\n",
    "        if is_samx_diagonal(d4_array.T,row_index,column_index):\n",
    "            dgur +=1\n",
    "\n",
    "print('lr',lr)\n",
    "print('rl',rl)\n",
    "print('up',up)\n",
    "print('dn',dn)\n",
    "print('dgr',dgr)\n",
    "print('dgl',dgl)\n",
    "print('dgul',dgul)\n",
    "print('dgur',dgur)"
   ]
  },
  {
   "cell_type": "code",
   "execution_count": 12,
   "id": "3da3abdc-221b-46eb-93d0-5c3d306c400b",
   "metadata": {},
   "outputs": [
    {
     "data": {
      "text/plain": [
       "12"
      ]
     },
     "execution_count": 12,
     "metadata": {},
     "output_type": "execute_result"
    }
   ],
   "source": [
    "lr+rl+up+dn+dgr+dgl+dgur+dgul"
   ]
  },
  {
   "cell_type": "code",
   "execution_count": null,
   "id": "36f809e9-c442-4cd8-b4e9-12584cad0bb2",
   "metadata": {},
   "outputs": [],
   "source": []
  }
 ],
 "metadata": {
  "kernelspec": {
   "display_name": "Python 3 (ipykernel)",
   "language": "python",
   "name": "python3"
  },
  "language_info": {
   "codemirror_mode": {
    "name": "ipython",
    "version": 3
   },
   "file_extension": ".py",
   "mimetype": "text/x-python",
   "name": "python",
   "nbconvert_exporter": "python",
   "pygments_lexer": "ipython3",
   "version": "3.13.0"
  }
 },
 "nbformat": 4,
 "nbformat_minor": 5
}
