{
 "cells": [
  {
   "cell_type": "code",
   "execution_count": 1,
   "id": "9d7cacfa-53d5-452f-9865-34b36a6aa8dd",
   "metadata": {},
   "outputs": [],
   "source": [
    "import numpy as np "
   ]
  },
  {
   "cell_type": "markdown",
   "id": "9cefd0c6-099b-451a-8966-85fdb654d079",
   "metadata": {},
   "source": [
    "# The Data "
   ]
  },
  {
   "cell_type": "code",
   "execution_count": 2,
   "id": "bdc54bb6-f5d0-414c-b393-833294aa7af7",
   "metadata": {},
   "outputs": [
    {
     "data": {
      "text/plain": [
       "[array([ 6,  8, 11, 12, 14, 16, 18, 16]),\n",
       " array([73, 76, 79, 80, 81, 84, 86, 86]),\n",
       " array([32, 33, 34, 37, 40, 44]),\n",
       " array([ 9, 11, 13, 14, 17, 24]),\n",
       " array([59, 61, 64, 62, 65])]"
      ]
     },
     "execution_count": 2,
     "metadata": {},
     "output_type": "execute_result"
    }
   ],
   "source": [
    "# Read the file, using newline as the delimiter\n",
    "d2_input = np.genfromtxt(\"d2_input.txt\", delimiter=\"\\n\", dtype=str, encoding=\"utf-8\")\n",
    "d2_input = [np.array(line.split(),dtype=int) for line in d2_input]\n",
    "d2_input[:5]"
   ]
  },
  {
   "cell_type": "code",
   "execution_count": 3,
   "id": "b303861b-024c-418e-a8f2-3fa83138c2cb",
   "metadata": {},
   "outputs": [
    {
     "data": {
      "text/plain": [
       "[array([ 6,  8, 11, 12, 14, 16, 18, 16]),\n",
       " array([73, 76, 79, 80, 81, 84, 86, 86]),\n",
       " array([32, 33, 34, 37, 40, 44]),\n",
       " array([ 9, 11, 13, 14, 17, 24]),\n",
       " array([59, 61, 64, 62, 65]),\n",
       " array([33, 36, 37, 39, 36, 35]),\n",
       " array([60, 62, 64, 61, 62, 64, 64]),\n",
       " array([12, 15, 16, 15, 17, 18, 22]),\n",
       " array([72, 73, 75, 77, 79, 82, 79, 85]),\n",
       " array([60, 61, 64, 64, 67, 69])]"
      ]
     },
     "execution_count": 3,
     "metadata": {},
     "output_type": "execute_result"
    }
   ],
   "source": [
    "d2_test = d2_input[:10].copy()\n",
    "d2_test"
   ]
  },
  {
   "cell_type": "markdown",
   "id": "8f611454-415b-45db-a39c-5048e5ffc50c",
   "metadata": {},
   "source": [
    "# Part One \n",
    "\n",
    "Simple solution for part one, could probably be much faster if I knew fancy algos. "
   ]
  },
  {
   "cell_type": "code",
   "execution_count": 4,
   "id": "e4a74d8b-9fd1-4d0b-936b-8fb1fc109b83",
   "metadata": {},
   "outputs": [
    {
     "data": {
      "text/plain": [
       "442"
      ]
     },
     "execution_count": 4,
     "metadata": {},
     "output_type": "execute_result"
    }
   ],
   "source": [
    "unsafe = 0\n",
    "for report in d2_input:\n",
    "    for index in range(len(report)-1):\n",
    "        \n",
    "        \n",
    "        if index == 0:\n",
    "            pass\n",
    "        elif index != 0:\n",
    "            prev    = report[index-1] - report[index]\n",
    "            nextv   = report[index] - report[index+1]\n",
    "            #Check if increasing on one side and decreasing on other\n",
    "            if ((prev <= 0) and (nextv >= 0)) or ((prev >= 0) and (nextv <=0)):\n",
    "                unsafe += 1\n",
    "                break\n",
    "            elif (np.abs(prev) > 3) or (np.abs(nextv) > 3):\n",
    "                unsafe += 1\n",
    "                break\n",
    "                #Check if the increase/decrease is too big:\n",
    "                \n",
    "    safe = len(d2_input) - unsafe\n",
    "safe \n",
    "            "
   ]
  },
  {
   "cell_type": "markdown",
   "id": "49dbdc23-0b35-43a7-92d4-ec8ebbddb2aa",
   "metadata": {},
   "source": [
    "# Part Two "
   ]
  },
  {
   "cell_type": "code",
   "execution_count": 5,
   "id": "6e1fba6b-d423-4635-bc99-87ceffef841c",
   "metadata": {},
   "outputs": [
    {
     "data": {
      "text/plain": [
       "503"
      ]
     },
     "execution_count": 5,
     "metadata": {},
     "output_type": "execute_result"
    }
   ],
   "source": [
    "unsafe = 0\n",
    "for report in d2_input:\n",
    "    for index in range(len(report)-1):\n",
    "        \n",
    "        \n",
    "        if index == 0:\n",
    "            pass\n",
    "        elif index != 0:\n",
    "            prev    = report[index-1] - report[index]\n",
    "            nextv   = report[index] - report[index+1]\n",
    "            prev_damp = report[index-1] - report[index+1]\n",
    "            try:\n",
    "                next_damp = report[index+1] - report[index+2] #In case the index is out of range\n",
    "            except:\n",
    "                next_damp = np.nan\n",
    "            \n",
    "            #Check if increasing on one side and decreasing on other\n",
    "            if ((prev <= 0) and (nextv >= 0)) or ((prev >= 0) and (nextv <=0)):\n",
    "                #Check if Dampening works: \n",
    "                if ((prev_damp <=0) and (next_damp >= 0 and next_damp != np.nan)) or ((prev_damp >=0) and (next_damp <=0 and next_damp != np.nan)):\n",
    "                    unsafe += 1\n",
    "                    break\n",
    "            elif (np.abs(prev) > 3) or (np.abs(nextv) > 3):\n",
    "                #Check if Dampening works:\n",
    "                if (np.abs(prev_damp) > 3) or (np.abs(next_damp) >3):\n",
    "                    unsafe += 1\n",
    "                    break\n",
    "                #Check if the increase/decrease is too big:\n",
    "                \n",
    "    safe = len(d2_input) - unsafe\n",
    "safe "
   ]
  },
  {
   "cell_type": "code",
   "execution_count": 6,
   "id": "a7829d8c-8499-4666-86e5-dfa60cb7750b",
   "metadata": {},
   "outputs": [],
   "source": [
    "test = [np.array([7,6,4,2,1]),np.array([1,2,7,8,9]),np.array([9,7,6,2,1]),np.array([1,3,2,4,5]),np.array([8,6,4,4,1]),np.array([1,3,6,7,9])]"
   ]
  },
  {
   "cell_type": "code",
   "execution_count": 37,
   "id": "5d20a7d1-c869-40f8-adbb-f95b4533de46",
   "metadata": {},
   "outputs": [],
   "source": [
    "def rule_break(prev,curr,nextv): #Returns true if a rule broken \n",
    "\n",
    "    if np.isnan(prev): #We are at the beginning:\n",
    "        if np.abs(curr-nextv) > 3:\n",
    "            return True \n",
    "    if np.isnan(nextv): #We are at the end\n",
    "        if np.abs(prev-curr) > 3:\n",
    "            return True\n",
    "    if prev == curr or curr == nextv: #Check if they're the same \n",
    "        return True\n",
    "    if (prev - curr <= 0) and (curr - nextv >=0):\n",
    "        return True\n",
    "    if (prev - curr >=0) and (curr - nextv <=0):\n",
    "        return True \n",
    "    if np.abs(prev-curr)>3:\n",
    "        return True\n",
    "    if np.abs(curr-nextv) >3:\n",
    "        return True\n",
    "    else:\n",
    "        return False # Pass"
   ]
  },
  {
   "cell_type": "code",
   "execution_count": 111,
   "id": "56d847f9-bdc2-4699-90d3-4dfd540a2ff1",
   "metadata": {},
   "outputs": [
    {
     "data": {
      "text/plain": [
       "493"
      ]
     },
     "execution_count": 111,
     "metadata": {},
     "output_type": "execute_result"
    }
   ],
   "source": [
    "# A dirty method of dampening \n",
    "\n",
    "safe = 0\n",
    "breaking_list = []\n",
    "test = [np.array([7,6,4,2,1]),\n",
    "        np.array([1,2,7,8,9]),\n",
    "        np.array([9,7,6,2,1]),\n",
    "        np.array([1,3,2,4,5]),\n",
    "        np.array([8,6,4,4,1]),\n",
    "        np.array([1,3,6,7,9])]\n",
    "def satisfies_rules(report):\n",
    "    for index in range(len(report)-1):\n",
    "        if index == 0: #At the beginning \n",
    "            if rule_break(np.nan,report[index],report[index+1]):\n",
    "                \n",
    "                return False\n",
    "                break\n",
    "            else:\n",
    "                continue\n",
    "        else: #Not at beginning \n",
    "            if rule_break(report[index-1],report[index],report[index+1]):\n",
    "                return False\n",
    "                break\n",
    "            else:\n",
    "                continue\n",
    "\n",
    "    return True\n",
    "for report in d2_input:\n",
    "    if satisfies_rules(report):\n",
    "        safe +=1\n",
    "    else:\n",
    "        for i in range(len(report)):\n",
    "            if satisfies_rules(np.delete(report,i)):\n",
    "                safe += 1\n",
    "                break\n",
    "safe\n",
    "                "
   ]
  },
  {
   "cell_type": "code",
   "execution_count": null,
   "id": "3a10a613-502b-4f63-ac04-0cc9faaab8f8",
   "metadata": {},
   "outputs": [],
   "source": [
    "rule_break("
   ]
  },
  {
   "cell_type": "code",
   "execution_count": 82,
   "id": "9913c338-adf1-488d-ae01-db001f7089eb",
   "metadata": {},
   "outputs": [
    {
     "name": "stdout",
     "output_type": "stream",
     "text": [
      "1\n",
      "[array([7, 6, 4, 2, 1]), array([1, 2, 7, 8, 9]), array([9, 7, 6, 2, 1]), array([8, 6, 4, 4, 1]), array([1, 3, 6, 7, 9])]\n"
     ]
    }
   ],
   "source": [
    "#Dampening\n",
    "unsafe = 0\n",
    "breaking_list = []\n",
    "test = [np.array([7,6,4,2,1]),\n",
    "        np.array([1,2,7,8,9]),\n",
    "        np.array([9,7,6,2,1]),\n",
    "        np.array([1,3,2,4,5]),\n",
    "        np.array([8,6,4,4,1]),\n",
    "        np.array([1,3,6,7,9])]\n",
    "for report in test:\n",
    "    for index in range(len(report)):\n",
    "        try:\n",
    "            prev = report[index-1]\n",
    "        except: \n",
    "            prev = np.nan\n",
    "        curr = report[index]\n",
    "        try:\n",
    "            nex = report[index+1]\n",
    "        except:\n",
    "            nex = np.nan\n",
    "        currd = nex\n",
    "        try:\n",
    "            nexd = report[index+2]\n",
    "        except:\n",
    "            nexd = np.nan\n",
    "\n",
    "        if rule_break(prev,curr,nex):\n",
    "            if rule_break(prev,currd,nexd):\n",
    "                unsafe +=1\n",
    "                breaking_list.append(report)\n",
    "                break\n",
    "       \n",
    "                continue\n",
    "\n",
    "safe = len(test) - unsafe\n",
    "print(safe)\n",
    "print(breaking_list)"
   ]
  },
  {
   "cell_type": "code",
   "execution_count": 89,
   "id": "762ae907-7931-4a30-ad23-1ff36ad03f70",
   "metadata": {},
   "outputs": [
    {
     "name": "stdout",
     "output_type": "stream",
     "text": [
      "483\n"
     ]
    }
   ],
   "source": [
    "unsafe = 0\n",
    "breaking_list = []\n",
    "test = [np.array([7,6,4,2,1]),\n",
    "        np.array([1,2,7,8,9]),\n",
    "        np.array([9,7,6,2,1]),\n",
    "        np.array([1,3,2,4,5]),\n",
    "        np.array([8,6,4,4,1]),\n",
    "        np.array([1,3,6,7,9])]\n",
    "report_num = 0\n",
    "for report in d2_input:\n",
    "    report_num += 1\n",
    "    for index in range(len(report)):\n",
    "        if index == 0:\n",
    "            prev = np.nan\n",
    "    \n",
    "        else:\n",
    "            prev = report[index-1]\n",
    "            \n",
    "        curr = report[index]\n",
    "        try:\n",
    "            nex = report[index+1]\n",
    "        except:\n",
    "            nex = np.nan\n",
    "        currd = nex\n",
    "        try:\n",
    "            nexd = report[index+2]\n",
    "        except:\n",
    "            nexd = np.nan\n",
    "    \n",
    "        if rule_break(prev,curr,nex):\n",
    "            #print(index, 'Rule break in report', report_num)\n",
    "            if rule_break(prev,currd,nexd):\n",
    "                unsafe +=1\n",
    "                breaking_list.append(report)\n",
    "                #print(index, 'Rule break with damp:', prev, currd, nexd)\n",
    "                break\n",
    "       \n",
    "        continue\n",
    "\n",
    "safe = len(d2_input) - unsafe\n",
    "print(safe)\n",
    "#print(breaking_list)"
   ]
  },
  {
   "cell_type": "code",
   "execution_count": 71,
   "id": "c671624b-676b-488e-8d42-6b796d655238",
   "metadata": {},
   "outputs": [
    {
     "name": "stdout",
     "output_type": "stream",
     "text": [
      "0\n",
      "0\n",
      "0\n",
      "0\n",
      "1\n",
      "2\n",
      "3\n",
      "4\n",
      "0\n",
      "0\n",
      "995\n"
     ]
    }
   ],
   "source": [
    "# Dampening\n",
    "unsafe = 0\n",
    "breaking_list = []\n",
    "test = [np.array([7,6,4,2,1]),\n",
    "        np.array([1,2,7,8,9]),\n",
    "        np.array([9,7,6,2,1]),\n",
    "        np.array([1,3,2,4,5]),\n",
    "        np.array([8,6,4,4,1]),\n",
    "        np.array([1,3,6,7,9])]\n",
    "for report in test:\n",
    "    for index in range(len(report)):\n",
    "        print(index)\n",
    "        #Beginning and end edge cases \n",
    "        if index == 0:\n",
    "            if rule_break(np.nan,report[index],report[index+1]):\n",
    "                if rule_break(np.nan,report[index+1],report[index+2]):\n",
    "                    unsafe += 1\n",
    "                    break\n",
    "        if index == len(report) -1:\n",
    "            if rule_break(report[index-1],report[index],np.nan):\n",
    "                if rule_break(report[index-1],np.nan,np.nan):\n",
    "                    unsafe += 1\n",
    "                    break\n",
    "        #All other cases\n",
    "        else: \n",
    "            if rule_break(report[index-1],report[index],report[index+1]): \n",
    "                #Try Dampening \n",
    "                if rule_break(report[index-1],report[index+1],report[index+2]):\n",
    "                    unsafe += 1\n",
    "                    breaking_list.append(report)\n",
    "                    break\n",
    "                                  \n",
    "                else:\n",
    "                    continue\n",
    "            else:\n",
    "                continue\n",
    "\n",
    "safe = len(d2_input) - unsafe\n",
    "print(safe)"
   ]
  },
  {
   "cell_type": "code",
   "execution_count": 42,
   "id": "c437aeed-1714-4d0f-bc79-a68e9d5c6ab1",
   "metadata": {},
   "outputs": [
    {
     "data": {
      "text/plain": [
       "False"
      ]
     },
     "execution_count": 42,
     "metadata": {},
     "output_type": "execute_result"
    }
   ],
   "source": [
    "rule_break(np.nan,np.nan,5)"
   ]
  },
  {
   "cell_type": "code",
   "execution_count": 58,
   "id": "935c46f8-234f-4453-98ba-4ec79e30131c",
   "metadata": {},
   "outputs": [
    {
     "name": "stdout",
     "output_type": "stream",
     "text": [
      "Safe reports: 465\n"
     ]
    }
   ],
   "source": [
    "import numpy as np\n",
    "\n",
    "# Rule-breaking counter\n",
    "unsafe = 0\n",
    "breaking_list = []\n",
    "\n",
    "# Test arrays\n",
    "test = [\n",
    "    np.array([7, 6, 4, 2, 1]),\n",
    "    np.array([1, 2, 7, 8, 9]),\n",
    "    np.array([9, 7, 6, 2, 1]),\n",
    "    np.array([1, 3, 2, 4, 5]),\n",
    "    np.array([8, 6, 4, 4, 1]),\n",
    "    np.array([1, 3, 6, 7, 9])\n",
    "]\n",
    "\n",
    "# Iterate through test cases\n",
    "for report in d2_input:\n",
    "    for index in range(len(report)):\n",
    "        # Beginning edge case\n",
    "        if index == 0:\n",
    "            if rule_break(np.nan, report[index], report[index+1]):\n",
    "                unsafe += 1\n",
    "                breaking_list.append((report, index))\n",
    "                break\n",
    "        \n",
    "        # End edge case\n",
    "        elif index == len(report) - 1:\n",
    "            if rule_break(report[index-1], report[index], np.nan):\n",
    "                unsafe += 1\n",
    "                breaking_list.append((report, index))\n",
    "                break\n",
    "        \n",
    "        # All other cases\n",
    "        else:\n",
    "            if rule_break(report[index-1], report[index], report[index+1]):\n",
    "                # Try Dampening\n",
    "                if index + 2 < len(report) and rule_break(report[index-1], report[index+1], report[index+2]):\n",
    "                    unsafe += 1\n",
    "                    breaking_list.append((report, index))\n",
    "                    break\n",
    "                else:\n",
    "                    continue\n",
    "\n",
    "# Calculate the number of safe reports\n",
    "safe = len(d2_input) - unsafe\n",
    "\n",
    "# Output results\n",
    "print(f\"Safe reports: {safe}\")\n",
    "#print(f\"Breaking reports: {len(breaking_list)}\")\n",
    "#print(f\"Details of breaking reports: {breaking_list}\")"
   ]
  },
  {
   "cell_type": "code",
   "execution_count": 101,
   "id": "68cc55b3-78d0-4d85-8997-a858c8a38329",
   "metadata": {},
   "outputs": [],
   "source": [
    "def is_safe(report):\n",
    "    for i in range(len(report) - 1):  # Iterate over consecutive pairs\n",
    "        prev = report[i]\n",
    "        curr = report[i + 1]\n",
    "        try:\n",
    "            damp = report[i +2]\n",
    "        except:\n",
    "            damp = np.nan\n",
    "\n",
    "        # Rule 1: No plateaus\n",
    "        if prev == curr:\n",
    "            if prev == damp:\n",
    "                return False\n",
    "\n",
    "        # Rule 2: Consistent trend\n",
    "        if i > 0 :  # Compare trend with the previous pair\n",
    "            if (report[i - 1] < prev and prev > curr) or (report[i - 1] > prev and prev < curr):\n",
    "                if (report[i-1] < curr and curr > damp) or (report[i-1] > curr and curr < damp):\n",
    "                    \n",
    "                    return False\n",
    "\n",
    "        # Rule 3: Magnitude of change\n",
    "        if abs(prev - curr) > 3:\n",
    "            if abs(prev - damp) >3:\n",
    "        \n",
    "                return False\n",
    "    return True"
   ]
  },
  {
   "cell_type": "code",
   "execution_count": 102,
   "id": "a53166f5-c3d0-4642-8707-9a58fb7081e8",
   "metadata": {},
   "outputs": [
    {
     "data": {
      "text/plain": [
       "591"
      ]
     },
     "execution_count": 102,
     "metadata": {},
     "output_type": "execute_result"
    }
   ],
   "source": [
    "safe = 0 \n",
    "for report in d2_input:\n",
    "    if is_safe(report):\n",
    "        safe += 1\n",
    "\n",
    "safe"
   ]
  },
  {
   "cell_type": "code",
   "execution_count": null,
   "id": "f8a8e0bf-3bca-4d2f-9444-9b5f0a54a214",
   "metadata": {},
   "outputs": [],
   "source": []
  }
 ],
 "metadata": {
  "kernelspec": {
   "display_name": "Python 3 (ipykernel)",
   "language": "python",
   "name": "python3"
  },
  "language_info": {
   "codemirror_mode": {
    "name": "ipython",
    "version": 3
   },
   "file_extension": ".py",
   "mimetype": "text/x-python",
   "name": "python",
   "nbconvert_exporter": "python",
   "pygments_lexer": "ipython3",
   "version": "3.13.0"
  }
 },
 "nbformat": 4,
 "nbformat_minor": 5
}
