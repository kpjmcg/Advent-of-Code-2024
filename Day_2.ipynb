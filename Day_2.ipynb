{
 "cells": [
  {
   "cell_type": "code",
   "execution_count": 1,
   "id": "9d7cacfa-53d5-452f-9865-34b36a6aa8dd",
   "metadata": {},
   "outputs": [],
   "source": [
    "import numpy as np "
   ]
  },
  {
   "cell_type": "markdown",
   "id": "9cefd0c6-099b-451a-8966-85fdb654d079",
   "metadata": {},
   "source": [
    "# The Data "
   ]
  },
  {
   "cell_type": "code",
   "execution_count": 2,
   "id": "bdc54bb6-f5d0-414c-b393-833294aa7af7",
   "metadata": {},
   "outputs": [
    {
     "data": {
      "text/plain": [
       "[array([ 6,  8, 11, 12, 14, 16, 18, 16]),\n",
       " array([73, 76, 79, 80, 81, 84, 86, 86]),\n",
       " array([32, 33, 34, 37, 40, 44]),\n",
       " array([ 9, 11, 13, 14, 17, 24]),\n",
       " array([59, 61, 64, 62, 65])]"
      ]
     },
     "execution_count": 2,
     "metadata": {},
     "output_type": "execute_result"
    }
   ],
   "source": [
    "# Read the file, using newline as the delimiter\n",
    "d2_input = np.genfromtxt(\"d2_input.txt\", delimiter=\"\\n\", dtype=str, encoding=\"utf-8\")\n",
    "d2_input = [np.array(line.split(),dtype=int) for line in d2_input]\n",
    "d2_input[:5]"
   ]
  },
  {
   "cell_type": "markdown",
   "id": "8f611454-415b-45db-a39c-5048e5ffc50c",
   "metadata": {},
   "source": [
    "# Part One \n",
    "\n",
    "Simple solution for part one, could probably be much faster if I knew fancy algos. "
   ]
  },
  {
   "cell_type": "code",
   "execution_count": 3,
   "id": "e4a74d8b-9fd1-4d0b-936b-8fb1fc109b83",
   "metadata": {},
   "outputs": [
    {
     "data": {
      "text/plain": [
       "442"
      ]
     },
     "execution_count": 3,
     "metadata": {},
     "output_type": "execute_result"
    }
   ],
   "source": [
    "unsafe = 0\n",
    "for report in d2_input:\n",
    "    for index in range(len(report)-1):\n",
    "        \n",
    "        \n",
    "        if index == 0:\n",
    "            pass\n",
    "        elif index != 0:\n",
    "            prev    = report[index-1] - report[index]\n",
    "            nextv   = report[index] - report[index+1]\n",
    "            #Check if increasing on one side and decreasing on other\n",
    "            if ((prev <= 0) and (nextv >= 0)) or ((prev >= 0) and (nextv <=0)):\n",
    "                unsafe += 1\n",
    "                break\n",
    "            elif (np.abs(prev) > 3) or (np.abs(nextv) > 3):\n",
    "                unsafe += 1\n",
    "                break\n",
    "                #Check if the increase/decrease is too big:\n",
    "                \n",
    "    safe = len(d2_input) - unsafe\n",
    "safe \n",
    "            "
   ]
  },
  {
   "cell_type": "markdown",
   "id": "49dbdc23-0b35-43a7-92d4-ec8ebbddb2aa",
   "metadata": {},
   "source": [
    "# Part Two "
   ]
  },
  {
   "cell_type": "code",
   "execution_count": 4,
   "id": "5d20a7d1-c869-40f8-adbb-f95b4533de46",
   "metadata": {},
   "outputs": [],
   "source": [
    "def rule_break(prev,curr,nextv): #Returns true if a rule broken \n",
    "\n",
    "    if np.isnan(prev): #We are at the beginning:\n",
    "        if np.abs(curr-nextv) > 3:\n",
    "            return True \n",
    "    if np.isnan(nextv): #We are at the end\n",
    "        if np.abs(prev-curr) > 3:\n",
    "            return True\n",
    "    if prev == curr or curr == nextv: #Check if they're the same \n",
    "        return True\n",
    "    if (prev - curr <= 0) and (curr - nextv >=0):\n",
    "        return True\n",
    "    if (prev - curr >=0) and (curr - nextv <=0):\n",
    "        return True \n",
    "    if np.abs(prev-curr)>3:\n",
    "        return True\n",
    "    if np.abs(curr-nextv) >3:\n",
    "        return True\n",
    "    else:\n",
    "        return False # Pass"
   ]
  },
  {
   "cell_type": "code",
   "execution_count": 5,
   "id": "56d847f9-bdc2-4699-90d3-4dfd540a2ff1",
   "metadata": {},
   "outputs": [
    {
     "data": {
      "text/plain": [
       "493"
      ]
     },
     "execution_count": 5,
     "metadata": {},
     "output_type": "execute_result"
    }
   ],
   "source": [
    "# A dirty method of dampening \n",
    "\n",
    "safe = 0\n",
    "breaking_list = []\n",
    "test = [np.array([7,6,4,2,1]),\n",
    "        np.array([1,2,7,8,9]),\n",
    "        np.array([9,7,6,2,1]),\n",
    "        np.array([1,3,2,4,5]),\n",
    "        np.array([8,6,4,4,1]),\n",
    "        np.array([1,3,6,7,9])]\n",
    "def satisfies_rules(report):\n",
    "    for index in range(len(report)-1):\n",
    "        if index == 0: #At the beginning \n",
    "            if rule_break(np.nan,report[index],report[index+1]):\n",
    "                \n",
    "                return False\n",
    "                break\n",
    "            else:\n",
    "                continue\n",
    "        else: #Not at beginning \n",
    "            if rule_break(report[index-1],report[index],report[index+1]):\n",
    "                return False\n",
    "                break\n",
    "            else:\n",
    "                continue\n",
    "\n",
    "    return True\n",
    "for report in d2_input:\n",
    "    if satisfies_rules(report):\n",
    "        safe +=1\n",
    "    else:\n",
    "        for i in range(len(report)):\n",
    "            if satisfies_rules(np.delete(report,i)):\n",
    "                safe += 1\n",
    "                break\n",
    "safe\n",
    "                "
   ]
  },
  {
   "cell_type": "code",
   "execution_count": null,
   "id": "f8a8e0bf-3bca-4d2f-9444-9b5f0a54a214",
   "metadata": {},
   "outputs": [],
   "source": []
  }
 ],
 "metadata": {
  "kernelspec": {
   "display_name": "Python 3 (ipykernel)",
   "language": "python",
   "name": "python3"
  },
  "language_info": {
   "codemirror_mode": {
    "name": "ipython",
    "version": 3
   },
   "file_extension": ".py",
   "mimetype": "text/x-python",
   "name": "python",
   "nbconvert_exporter": "python",
   "pygments_lexer": "ipython3",
   "version": "3.13.0"
  }
 },
 "nbformat": 4,
 "nbformat_minor": 5
}
